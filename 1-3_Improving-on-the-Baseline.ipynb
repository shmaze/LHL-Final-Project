{
 "cells": [
  {
   "cell_type": "markdown",
   "id": "3471133c",
   "metadata": {},
   "source": [
    "The baseline ridge regression model created had a very large error value and an inefficient r2 score. In this section we will use other models to attempt to achieve a better model."
   ]
  },
  {
   "cell_type": "code",
   "execution_count": 13,
   "id": "e1e6af78",
   "metadata": {},
   "outputs": [],
   "source": [
    "import pandas as pd\n",
    "import numpy as np\n",
    "import matplotlib.pyplot as plt\n",
    "from xgboost import XGBRegressor\n",
    "import xgboost \n",
    "from sklearn.model_selection import RepeatedKFold, cross_val_score"
   ]
  },
  {
   "cell_type": "code",
   "execution_count": 6,
   "id": "79600350",
   "metadata": {},
   "outputs": [],
   "source": [
    "data = pd.read_csv('./data/data_4hr.csv')\n",
    "\n",
    "model = XGBRegressor()"
   ]
  },
  {
   "cell_type": "code",
   "execution_count": 22,
   "id": "ca73c941",
   "metadata": {},
   "outputs": [],
   "source": [
    "data.Date = data.Date.apply(lambda x: pd.to_datetime(x))\n",
    "\n",
    "data = data.set_index('Date')"
   ]
  },
  {
   "cell_type": "code",
   "execution_count": 11,
   "id": "02283190",
   "metadata": {},
   "outputs": [],
   "source": [
    "# set up a model evaluation method\n",
    "\n",
    "cv = RepeatedKFold(n_splits=10, n_repeats=3, random_state=42)\n",
    "\n"
   ]
  },
  {
   "cell_type": "code",
   "execution_count": 23,
   "id": "30410ae5",
   "metadata": {},
   "outputs": [],
   "source": [
    "# split data into training testing X and y\n",
    "\n",
    "\n",
    "train = data[:6000]\n",
    "test = data[6000:]\n",
    "\n",
    "X_train = train.drop('Close', axis=1)\n",
    "X_test = test.drop('Close', axis=1)\n",
    "y_train = train.Close\n",
    "y_test = test.Close"
   ]
  },
  {
   "cell_type": "code",
   "execution_count": 21,
   "id": "d013624e",
   "metadata": {},
   "outputs": [
    {
     "data": {
      "text/plain": [
       "Date           object\n",
       "Volume        float64\n",
       "7day_MA       float64\n",
       "50day_MA      float64\n",
       "200day_MA     float64\n",
       "Close_-1      float64\n",
       "Volume_-1     float64\n",
       "Close_-2      float64\n",
       "Volume_-2     float64\n",
       "Close_-3      float64\n",
       "Volume_-3     float64\n",
       "Close_-4      float64\n",
       "Volume_-4     float64\n",
       "Close_-5      float64\n",
       "Volume_-5     float64\n",
       "Close_-6      float64\n",
       "Volume_-6     float64\n",
       "Close_-7      float64\n",
       "Volume_-7     float64\n",
       "Close_-8      float64\n",
       "Volume_-8     float64\n",
       "Close_-9      float64\n",
       "Volume_-9     float64\n",
       "Close_-10     float64\n",
       "Volume_-10    float64\n",
       "Close_-11     float64\n",
       "Volume_-11    float64\n",
       "Close_-12     float64\n",
       "Volume_-12    float64\n",
       "Close_-13     float64\n",
       "Volume_-13    float64\n",
       "Close_-14     float64\n",
       "Volume_-14    float64\n",
       "Close_-15     float64\n",
       "Volume_-15    float64\n",
       "Close_-16     float64\n",
       "Volume_-16    float64\n",
       "Close_-17     float64\n",
       "Volume_-17    float64\n",
       "Close_-18     float64\n",
       "Volume_-18    float64\n",
       "Close_-19     float64\n",
       "Volume_-19    float64\n",
       "Close_-20     float64\n",
       "Volume_-20    float64\n",
       "Close_-21     float64\n",
       "Volume_-21    float64\n",
       "Close_-22     float64\n",
       "Volume_-22    float64\n",
       "Close_-23     float64\n",
       "Volume_-23    float64\n",
       "Close_-24     float64\n",
       "Volume_-24    float64\n",
       "dtype: object"
      ]
     },
     "execution_count": 21,
     "metadata": {},
     "output_type": "execute_result"
    }
   ],
   "source": [
    "X_train.dtypes"
   ]
  },
  {
   "cell_type": "code",
   "execution_count": 24,
   "id": "e985c9e3",
   "metadata": {},
   "outputs": [],
   "source": [
    "model.fit(X_train, y_train)\n",
    "\n",
    "scores = cross_val_score(model, X_train, y_train, scoring='neg_mean_absolute_error', cv=cv, n_jobs=-1)\n"
   ]
  },
  {
   "cell_type": "code",
   "execution_count": 25,
   "id": "e77ae471",
   "metadata": {},
   "outputs": [
    {
     "data": {
      "text/plain": [
       "array([-158.90267613, -176.86153083, -169.24120576, -150.53081491,\n",
       "       -154.14468984, -172.05726778, -194.04160763, -154.59705326,\n",
       "       -176.78845278, -171.75214179, -173.65461879, -171.2487034 ,\n",
       "       -158.3936077 , -158.82634752, -179.3670834 , -164.05955821,\n",
       "       -154.72191123, -176.20319693, -157.14703276, -173.60783219,\n",
       "       -198.37992196, -155.74466671, -144.43946196, -156.05814484,\n",
       "       -153.28310423, -175.15645772, -149.09252745, -160.7597114 ,\n",
       "       -159.45009072, -194.62055971])"
      ]
     },
     "execution_count": 25,
     "metadata": {},
     "output_type": "execute_result"
    }
   ],
   "source": [
    "scores"
   ]
  },
  {
   "cell_type": "code",
   "execution_count": 26,
   "id": "2511b702",
   "metadata": {
    "scrolled": true
   },
   "outputs": [
    {
     "name": "stdout",
     "output_type": "stream",
     "text": [
      "Mean MAE: 166.43773265104167\n"
     ]
    }
   ],
   "source": [
    "scores = abs(scores)\n",
    "print(f'Mean MAE: {scores.mean()}')"
   ]
  },
  {
   "cell_type": "code",
   "execution_count": 27,
   "id": "8f5c2336",
   "metadata": {},
   "outputs": [],
   "source": [
    "y_pred = model.predict(X_test)"
   ]
  },
  {
   "cell_type": "code",
   "execution_count": 28,
   "id": "ba4ea240",
   "metadata": {},
   "outputs": [
    {
     "name": "stdout",
     "output_type": "stream",
     "text": [
      "The r2 score for xgboost is: 0.9184726006568993\n",
      "The MSE for xgboost is: 8621869.239743669\n"
     ]
    }
   ],
   "source": [
    "from sklearn.metrics import r2_score, mean_squared_error\n",
    "\n",
    "r2 = r2_score(y_test, y_pred)\n",
    "mse = mean_squared_error(y_test, y_pred)\n",
    "\n",
    "print(f'The r2 score for xgboost is: {r2}')\n",
    "print(f'The MSE for xgboost is: {mse}')"
   ]
  },
  {
   "cell_type": "markdown",
   "id": "5962f535",
   "metadata": {},
   "source": [
    "This is actually not an improvement on the baseline model. The r2 score is lower, and the MSE is higher. Now will try with scaled data. This time trying MinMaxScaler as well as StandardScaler."
   ]
  },
  {
   "cell_type": "code",
   "execution_count": 29,
   "id": "7e2654ad",
   "metadata": {},
   "outputs": [],
   "source": [
    "from sklearn.preprocessing import MinMaxScaler, StandardScaler\n",
    "\n",
    "scaler = MinMaxScaler()\n",
    "X_train_scaled = scaler.fit_transform(X_train)\n",
    "X_test_scaled = scaler.fit_transform(X_test)"
   ]
  },
  {
   "cell_type": "code",
   "execution_count": 32,
   "id": "d567f916",
   "metadata": {},
   "outputs": [],
   "source": [
    "X_train_scaled = pd.DataFrame(X_train_scaled, index=X_train.index, columns=X_train.columns)"
   ]
  },
  {
   "cell_type": "code",
   "execution_count": 33,
   "id": "90b29a23",
   "metadata": {},
   "outputs": [
    {
     "data": {
      "text/html": [
       "<div>\n",
       "<style scoped>\n",
       "    .dataframe tbody tr th:only-of-type {\n",
       "        vertical-align: middle;\n",
       "    }\n",
       "\n",
       "    .dataframe tbody tr th {\n",
       "        vertical-align: top;\n",
       "    }\n",
       "\n",
       "    .dataframe thead th {\n",
       "        text-align: right;\n",
       "    }\n",
       "</style>\n",
       "<table border=\"1\" class=\"dataframe\">\n",
       "  <thead>\n",
       "    <tr style=\"text-align: right;\">\n",
       "      <th></th>\n",
       "      <th>Volume</th>\n",
       "      <th>7day_MA</th>\n",
       "      <th>50day_MA</th>\n",
       "      <th>200day_MA</th>\n",
       "      <th>Close_-1</th>\n",
       "      <th>Volume_-1</th>\n",
       "      <th>Close_-2</th>\n",
       "      <th>Volume_-2</th>\n",
       "      <th>Close_-3</th>\n",
       "      <th>Volume_-3</th>\n",
       "      <th>...</th>\n",
       "      <th>Close_-20</th>\n",
       "      <th>Volume_-20</th>\n",
       "      <th>Close_-21</th>\n",
       "      <th>Volume_-21</th>\n",
       "      <th>Close_-22</th>\n",
       "      <th>Volume_-22</th>\n",
       "      <th>Close_-23</th>\n",
       "      <th>Volume_-23</th>\n",
       "      <th>Close_-24</th>\n",
       "      <th>Volume_-24</th>\n",
       "    </tr>\n",
       "    <tr>\n",
       "      <th>Date</th>\n",
       "      <th></th>\n",
       "      <th></th>\n",
       "      <th></th>\n",
       "      <th></th>\n",
       "      <th></th>\n",
       "      <th></th>\n",
       "      <th></th>\n",
       "      <th></th>\n",
       "      <th></th>\n",
       "      <th></th>\n",
       "      <th></th>\n",
       "      <th></th>\n",
       "      <th></th>\n",
       "      <th></th>\n",
       "      <th></th>\n",
       "      <th></th>\n",
       "      <th></th>\n",
       "      <th></th>\n",
       "      <th></th>\n",
       "      <th></th>\n",
       "      <th></th>\n",
       "    </tr>\n",
       "  </thead>\n",
       "  <tbody>\n",
       "    <tr>\n",
       "      <th>2021-04-08 16:00:00</th>\n",
       "      <td>0.002576</td>\n",
       "      <td>0.990963</td>\n",
       "      <td>0.998569</td>\n",
       "      <td>0.994130</td>\n",
       "      <td>0.914663</td>\n",
       "      <td>0.006139</td>\n",
       "      <td>0.922895</td>\n",
       "      <td>0.006713</td>\n",
       "      <td>0.912914</td>\n",
       "      <td>0.014474</td>\n",
       "      <td>...</td>\n",
       "      <td>0.923341</td>\n",
       "      <td>0.007218</td>\n",
       "      <td>0.927525</td>\n",
       "      <td>0.008083</td>\n",
       "      <td>0.937764</td>\n",
       "      <td>0.007853</td>\n",
       "      <td>0.923221</td>\n",
       "      <td>0.000000</td>\n",
       "      <td>0.941588</td>\n",
       "      <td>0.014372</td>\n",
       "    </tr>\n",
       "    <tr>\n",
       "      <th>2021-04-08 20:00:00</th>\n",
       "      <td>0.002376</td>\n",
       "      <td>0.990717</td>\n",
       "      <td>0.998986</td>\n",
       "      <td>0.995613</td>\n",
       "      <td>0.933459</td>\n",
       "      <td>0.002576</td>\n",
       "      <td>0.914663</td>\n",
       "      <td>0.006139</td>\n",
       "      <td>0.922895</td>\n",
       "      <td>0.006713</td>\n",
       "      <td>...</td>\n",
       "      <td>0.925433</td>\n",
       "      <td>0.014042</td>\n",
       "      <td>0.923341</td>\n",
       "      <td>0.007218</td>\n",
       "      <td>0.927525</td>\n",
       "      <td>0.008083</td>\n",
       "      <td>0.937764</td>\n",
       "      <td>0.007853</td>\n",
       "      <td>0.923221</td>\n",
       "      <td>0.000000</td>\n",
       "    </tr>\n",
       "    <tr>\n",
       "      <th>2021-04-09 00:00:00</th>\n",
       "      <td>0.002927</td>\n",
       "      <td>0.989823</td>\n",
       "      <td>0.999294</td>\n",
       "      <td>0.997064</td>\n",
       "      <td>0.940353</td>\n",
       "      <td>0.002376</td>\n",
       "      <td>0.933459</td>\n",
       "      <td>0.002576</td>\n",
       "      <td>0.914663</td>\n",
       "      <td>0.006139</td>\n",
       "      <td>...</td>\n",
       "      <td>0.950935</td>\n",
       "      <td>0.041162</td>\n",
       "      <td>0.925433</td>\n",
       "      <td>0.014042</td>\n",
       "      <td>0.923341</td>\n",
       "      <td>0.007218</td>\n",
       "      <td>0.927525</td>\n",
       "      <td>0.008083</td>\n",
       "      <td>0.937764</td>\n",
       "      <td>0.007853</td>\n",
       "    </tr>\n",
       "    <tr>\n",
       "      <th>2021-04-09 04:00:00</th>\n",
       "      <td>0.003021</td>\n",
       "      <td>0.988676</td>\n",
       "      <td>0.999609</td>\n",
       "      <td>0.998518</td>\n",
       "      <td>0.923204</td>\n",
       "      <td>0.002927</td>\n",
       "      <td>0.940353</td>\n",
       "      <td>0.002376</td>\n",
       "      <td>0.933459</td>\n",
       "      <td>0.002576</td>\n",
       "      <td>...</td>\n",
       "      <td>0.957760</td>\n",
       "      <td>0.009754</td>\n",
       "      <td>0.950935</td>\n",
       "      <td>0.041162</td>\n",
       "      <td>0.925433</td>\n",
       "      <td>0.014042</td>\n",
       "      <td>0.923341</td>\n",
       "      <td>0.007218</td>\n",
       "      <td>0.927525</td>\n",
       "      <td>0.008083</td>\n",
       "    </tr>\n",
       "    <tr>\n",
       "      <th>2021-04-09 08:00:00</th>\n",
       "      <td>0.041037</td>\n",
       "      <td>0.988117</td>\n",
       "      <td>1.000000</td>\n",
       "      <td>1.000000</td>\n",
       "      <td>0.925810</td>\n",
       "      <td>0.003021</td>\n",
       "      <td>0.923204</td>\n",
       "      <td>0.002927</td>\n",
       "      <td>0.940353</td>\n",
       "      <td>0.002376</td>\n",
       "      <td>...</td>\n",
       "      <td>0.957537</td>\n",
       "      <td>0.006869</td>\n",
       "      <td>0.957760</td>\n",
       "      <td>0.009754</td>\n",
       "      <td>0.950935</td>\n",
       "      <td>0.041162</td>\n",
       "      <td>0.925433</td>\n",
       "      <td>0.014042</td>\n",
       "      <td>0.923341</td>\n",
       "      <td>0.007218</td>\n",
       "    </tr>\n",
       "  </tbody>\n",
       "</table>\n",
       "<p>5 rows × 52 columns</p>\n",
       "</div>"
      ],
      "text/plain": [
       "                       Volume   7day_MA  50day_MA  200day_MA  Close_-1  \\\n",
       "Date                                                                     \n",
       "2021-04-08 16:00:00  0.002576  0.990963  0.998569   0.994130  0.914663   \n",
       "2021-04-08 20:00:00  0.002376  0.990717  0.998986   0.995613  0.933459   \n",
       "2021-04-09 00:00:00  0.002927  0.989823  0.999294   0.997064  0.940353   \n",
       "2021-04-09 04:00:00  0.003021  0.988676  0.999609   0.998518  0.923204   \n",
       "2021-04-09 08:00:00  0.041037  0.988117  1.000000   1.000000  0.925810   \n",
       "\n",
       "                     Volume_-1  Close_-2  Volume_-2  Close_-3  Volume_-3  ...  \\\n",
       "Date                                                                      ...   \n",
       "2021-04-08 16:00:00   0.006139  0.922895   0.006713  0.912914   0.014474  ...   \n",
       "2021-04-08 20:00:00   0.002576  0.914663   0.006139  0.922895   0.006713  ...   \n",
       "2021-04-09 00:00:00   0.002376  0.933459   0.002576  0.914663   0.006139  ...   \n",
       "2021-04-09 04:00:00   0.002927  0.940353   0.002376  0.933459   0.002576  ...   \n",
       "2021-04-09 08:00:00   0.003021  0.923204   0.002927  0.940353   0.002376  ...   \n",
       "\n",
       "                     Close_-20  Volume_-20  Close_-21  Volume_-21  Close_-22  \\\n",
       "Date                                                                           \n",
       "2021-04-08 16:00:00   0.923341    0.007218   0.927525    0.008083   0.937764   \n",
       "2021-04-08 20:00:00   0.925433    0.014042   0.923341    0.007218   0.927525   \n",
       "2021-04-09 00:00:00   0.950935    0.041162   0.925433    0.014042   0.923341   \n",
       "2021-04-09 04:00:00   0.957760    0.009754   0.950935    0.041162   0.925433   \n",
       "2021-04-09 08:00:00   0.957537    0.006869   0.957760    0.009754   0.950935   \n",
       "\n",
       "                     Volume_-22  Close_-23  Volume_-23  Close_-24  Volume_-24  \n",
       "Date                                                                           \n",
       "2021-04-08 16:00:00    0.007853   0.923221    0.000000   0.941588    0.014372  \n",
       "2021-04-08 20:00:00    0.008083   0.937764    0.007853   0.923221    0.000000  \n",
       "2021-04-09 00:00:00    0.007218   0.927525    0.008083   0.937764    0.007853  \n",
       "2021-04-09 04:00:00    0.014042   0.923341    0.007218   0.927525    0.008083  \n",
       "2021-04-09 08:00:00    0.041162   0.925433    0.014042   0.923341    0.007218  \n",
       "\n",
       "[5 rows x 52 columns]"
      ]
     },
     "execution_count": 33,
     "metadata": {},
     "output_type": "execute_result"
    }
   ],
   "source": [
    "X_train_scaled.tail()"
   ]
  },
  {
   "cell_type": "code",
   "execution_count": 34,
   "id": "1f3b41ca",
   "metadata": {},
   "outputs": [],
   "source": [
    "X_test_scaled = pd.DataFrame(X_test_scaled, index=X_test.index, columns=X_test.columns)"
   ]
  },
  {
   "cell_type": "code",
   "execution_count": 35,
   "id": "791be6c5",
   "metadata": {},
   "outputs": [
    {
     "data": {
      "text/plain": [
       "XGBRegressor(base_score=0.5, booster='gbtree', colsample_bylevel=1,\n",
       "             colsample_bynode=1, colsample_bytree=1, gamma=0, gpu_id=-1,\n",
       "             importance_type='gain', interaction_constraints='',\n",
       "             learning_rate=0.300000012, max_delta_step=0, max_depth=6,\n",
       "             min_child_weight=1, missing=nan, monotone_constraints='()',\n",
       "             n_estimators=100, n_jobs=8, num_parallel_tree=1, random_state=0,\n",
       "             reg_alpha=0, reg_lambda=1, scale_pos_weight=1, subsample=1,\n",
       "             tree_method='exact', validate_parameters=1, verbosity=None)"
      ]
     },
     "execution_count": 35,
     "metadata": {},
     "output_type": "execute_result"
    }
   ],
   "source": [
    "model.fit(X_train_scaled, y_train)"
   ]
  },
  {
   "cell_type": "code",
   "execution_count": 37,
   "id": "8f502661",
   "metadata": {},
   "outputs": [
    {
     "name": "stdout",
     "output_type": "stream",
     "text": [
      "Mean MAE: 166.44018770203994\n",
      "The r2 score for xgboost is: -2.138460426594787\n",
      "The MSE for xgboost is: 331905538.8769776\n"
     ]
    }
   ],
   "source": [
    "scores=cross_val_score(model, X_train_scaled, y_train, scoring='neg_mean_absolute_error', cv=cv, n_jobs=-1)\n",
    "\n",
    "y_pred = model.predict(X_test_scaled)\n",
    "\n",
    "r2 = r2_score(y_test, y_pred)\n",
    "mse = mean_squared_error(y_test, y_pred)\n",
    "\n",
    "scores = abs(scores)\n",
    "\n",
    "print(f'Mean MAE: {scores.mean()}')\n",
    "print(f'The r2 score for xgboost is: {r2}')\n",
    "print(f'The MSE for xgboost is: {mse}')"
   ]
  },
  {
   "cell_type": "markdown",
   "id": "b797964c",
   "metadata": {},
   "source": [
    "Scaled data again produces worse results. Need to consult with mentor for improvement suggestions. Perhaps scaling the entire dataframe at once is causing the problem, as the scaler is being fit on both volume and close columns.\n",
    "\n",
    "I am encouraged by the relatively low mean absolute error. I want to explore how close predictions are to actual price. I am going to take the model fitted on the unscaled data and again predict results. After this I will plot the results to visualize how accurate the model is.\n",
    "\n",
    "Also, I am going to be using mean absolute error moving forward, as this may be a better metric for determining whether or not to make an investment or not since we are looking to establish the type of position to take. Wondering whether it may be more beneficial to establish a loop to label the data with a 0 if price went down from previous close or a 1 if price went up from previous close. "
   ]
  },
  {
   "cell_type": "code",
   "execution_count": 38,
   "id": "53fce7a3",
   "metadata": {},
   "outputs": [
    {
     "name": "stdout",
     "output_type": "stream",
     "text": [
      "The r2 score for xgboost is: 0.9184726006568993\n",
      "The MSE for xgboost is: 2295.7345506934034\n"
     ]
    }
   ],
   "source": [
    "from sklearn.metrics import mean_absolute_error\n",
    "\n",
    "\n",
    "model.fit(X_train, y_train)\n",
    "\n",
    "scores = cross_val_score(model, X_train, y_train, scoring='neg_mean_absolute_error', cv=cv, n_jobs=-1)\n",
    "\n",
    "y_pred = model.predict(X_test)\n",
    "\n",
    "r2 = r2_score(y_test, y_pred)\n",
    "mae = mean_absolute_error(y_test, y_pred)\n",
    "\n",
    "print(f'The r2 score for xgboost is: {r2}')\n",
    "print(f'The MAE for xgboost is: {mae}')"
   ]
  },
  {
   "cell_type": "code",
   "execution_count": 40,
   "id": "713e4e9c",
   "metadata": {},
   "outputs": [
    {
     "data": {
      "text/html": [
       "<div>\n",
       "<style scoped>\n",
       "    .dataframe tbody tr th:only-of-type {\n",
       "        vertical-align: middle;\n",
       "    }\n",
       "\n",
       "    .dataframe tbody tr th {\n",
       "        vertical-align: top;\n",
       "    }\n",
       "\n",
       "    .dataframe thead th {\n",
       "        text-align: right;\n",
       "    }\n",
       "</style>\n",
       "<table border=\"1\" class=\"dataframe\">\n",
       "  <thead>\n",
       "    <tr style=\"text-align: right;\">\n",
       "      <th></th>\n",
       "      <th>Date</th>\n",
       "      <th>Close</th>\n",
       "    </tr>\n",
       "  </thead>\n",
       "  <tbody>\n",
       "    <tr>\n",
       "      <th>0</th>\n",
       "      <td>2021-04-09 12:00:00</td>\n",
       "      <td>58724.0</td>\n",
       "    </tr>\n",
       "    <tr>\n",
       "      <th>1</th>\n",
       "      <td>2021-04-09 16:00:00</td>\n",
       "      <td>58395.0</td>\n",
       "    </tr>\n",
       "    <tr>\n",
       "      <th>2</th>\n",
       "      <td>2021-04-09 20:00:00</td>\n",
       "      <td>58263.0</td>\n",
       "    </tr>\n",
       "    <tr>\n",
       "      <th>3</th>\n",
       "      <td>2021-04-10 00:00:00</td>\n",
       "      <td>58346.0</td>\n",
       "    </tr>\n",
       "    <tr>\n",
       "      <th>4</th>\n",
       "      <td>2021-04-10 04:00:00</td>\n",
       "      <td>58500.0</td>\n",
       "    </tr>\n",
       "  </tbody>\n",
       "</table>\n",
       "</div>"
      ],
      "text/plain": [
       "                 Date    Close\n",
       "0 2021-04-09 12:00:00  58724.0\n",
       "1 2021-04-09 16:00:00  58395.0\n",
       "2 2021-04-09 20:00:00  58263.0\n",
       "3 2021-04-10 00:00:00  58346.0\n",
       "4 2021-04-10 04:00:00  58500.0"
      ]
     },
     "execution_count": 40,
     "metadata": {},
     "output_type": "execute_result"
    }
   ],
   "source": [
    "y_ = y_test.reset_index()\n",
    "y_.head()"
   ]
  },
  {
   "cell_type": "code",
   "execution_count": 41,
   "id": "2c0600e5",
   "metadata": {},
   "outputs": [
    {
     "data": {
      "text/plain": [
       "array([58162.176, 58593.86 , 58287.4  , 57988.414, 57245.574, 58707.93 ,\n",
       "       59343.348, 59492.69 , 59408.93 , 59571.582, 57112.67 , 59354.574,\n",
       "       58096.03 , 58721.17 , 57715.99 , 59315.938, 59345.004, 59744.82 ,\n",
       "       59472.22 , 59339.42 , 59789.34 , 59389.234, 58713.12 , 58785.59 ,\n",
       "       59420.84 , 59363.855, 59454.57 , 59362.082, 59598.664, 59066.293,\n",
       "       58690.957, 58592.875, 59393.004, 59461.805, 59226.434, 59288.715,\n",
       "       59267.69 , 58758.793, 59139.29 , 59482.67 , 59138.973, 59442.617,\n",
       "       58893.918, 58899.945, 59647.42 , 59415.36 , 59366.87 , 59457.848,\n",
       "       59277.7  , 59511.703, 59466.902, 59685.188, 59178.04 , 57220.656,\n",
       "       56053.652, 55689.266, 55334.273, 55148.21 , 56941.496, 57200.656,\n",
       "       56688.33 , 56558.945, 55808.07 , 56218.38 , 57992.31 , 56599.395,\n",
       "       55236.188, 56458.844, 56325.14 , 56467.37 , 56809.125, 56204.05 ,\n",
       "       56109.797, 56001.625, 56133.77 , 55843.977, 54818.566, 54805.168,\n",
       "       55312.89 , 55339.5  , 54654.773, 52685.02 , 50914.156, 49604.703,\n",
       "       49349.324, 49367.984, 50231.285, 50318.547, 50305.312, 50816.61 ,\n",
       "       50684.75 , 49645.78 , 49001.594, 50246.754, 50436.598, 50426.14 ,\n",
       "       50703.1  , 48682.61 , 50119.215, 51478.062, 48146.023, 51997.254,\n",
       "       54669.38 , 54338.97 , 53234.29 , 53509.285, 54369.734, 54317.71 ,\n",
       "       55775.766, 54958.625, 55120.035, 55227.17 , 55091.57 , 55477.98 ,\n",
       "       54551.695, 54609.81 , 55726.32 , 55816.48 , 54828.008, 54598.76 ,\n",
       "       55316.61 , 54745.145, 54999.93 , 54526.85 , 54733.44 , 54098.523,\n",
       "       54999.305, 54840.207, 55798.043, 56463.06 , 57397.293, 57930.55 ,\n",
       "       58645.965, 57644.984, 56548.387, 57307.973, 57730.74 , 57657.586,\n",
       "       57121.137, 57234.094, 56996.277, 57060.113, 57245.96 , 57960.21 ,\n",
       "       58060.105, 58125.16 , 57565.633, 57735.227, 57538.195, 56137.402,\n",
       "       55612.23 , 55245.656, 56013.645, 56443.715, 54990.824, 56029.96 ,\n",
       "       54654.86 , 56024.73 , 56260.246, 57191.23 , 56772.562, 56513.4  ,\n",
       "       57869.83 , 57824.645, 57683.87 , 56641.83 , 56251.336, 55924.957,\n",
       "       55937.902, 55410.758, 56702.55 , 57620.2  , 57984.938, 57711.453,\n",
       "       57681.363, 58051.047, 58091.32 , 57940.477, 58396.043, 58279.848,\n",
       "       59072.105, 58029.16 , 57507.477, 58076.875, 57826.61 , 58096.516,\n",
       "       57628.21 , 57886.676, 56851.44 , 56539.305, 56758.418, 54989.082,\n",
       "       55948.254, 56847.72 , 55519.934, 56257.727, 56423.406, 57465.99 ,\n",
       "       57071.207, 57276.695, 56726.414, 55275.242, 55049.426, 50884.215,\n",
       "       48540.27 , 47208.867, 50701.465, 49023.035, 50168.66 , 48634.965,\n",
       "       49133.918, 49902.52 , 50811.324, 48997.977, 50395.94 , 50103.78 ,\n",
       "       50322.54 , 48500.887, 49470.582, 48133.64 , 49089.863, 48906.42 ,\n",
       "       48985.75 , 49099.9  , 48689.387, 46055.89 , 45724.383, 46412.793,\n",
       "       46214.37 , 46762.215, 45969.703, 46320.695, 45748.887, 46590.945,\n",
       "       46613.293, 45945.637, 46661.11 , 46609.51 , 45229.004, 46452.098,\n",
       "       45496.39 , 45741.707, 40473.23 , 43072.277, 45474.348, 45621.766,\n",
       "       46062.746, 45994.312, 45753.98 , 46103.938, 46850.094, 47202.1  ,\n",
       "       44937.418, 45448.246, 44305.867, 41976.773, 42188.086, 44141.27 ,\n",
       "       42823.566, 41003.38 , 44842.367, 43035.863, 43317.52 , 43860.645,\n",
       "       42350.84 , 39659.67 , 41454.984, 41390.07 , 40310.332, 42253.598,\n",
       "       41492.75 , 42374.61 , 43244.35 , 44494.266, 44543.977, 44817.113,\n",
       "       45062.64 , 43542.297, 44906.707, 45090.016, 44026.605, 45711.688,\n",
       "       46601.355, 45509.63 , 44830.727, 44985.344, 45029.543, 43729.707,\n",
       "       44446.92 , 41815.03 , 42931.05 , 41378.77 , 41675.914, 41372.723,\n",
       "       39751.02 , 39404.78 , 39002.426, 39141.04 , 37969.03 , 38390.074,\n",
       "       38835.156, 38521.953, 37968.066, 36350.6  , 36202.74 , 36496.94 ,\n",
       "       38698.1  , 38556.355, 37533.01 , 37856.918, 38682.227, 38199.77 ,\n",
       "       38019.723, 38886.16 , 38573.73 , 37337.18 , 39141.875, 38857.113,\n",
       "       39179.1  , 39431.793, 38804.42 , 39353.418, 38689.066, 38109.277,\n",
       "       39201.363, 38898.4  , 40623.49 , 40378.055, 40363.555, 39093.523,\n",
       "       41240.227, 41999.555, 41433.594, 41533.453, 41566.18 , 40187.04 ,\n",
       "       39410.87 , 39562.34 , 39563.98 , 38234.664, 39238.117, 40400.48 ,\n",
       "       40017.36 , 39638.086, 38437.676, 37128.867, 38874.7  , 38103.45 ,\n",
       "       38729.227, 38469.33 , 36728.324, 38191.715, 37944.29 , 38209.914,\n",
       "       38558.105, 38428.02 , 38712.   , 37595.383, 35995.668, 36437.793,\n",
       "       34941.035, 36232.406, 36174.31 , 35367.074, 35619.984, 34773.98 ,\n",
       "       35670.535, 35676.19 , 37607.242, 38370.51 , 37931.45 , 38760.14 ,\n",
       "       39362.72 , 41446.277, 40268.918, 39411.875, 39747.188, 39602.168,\n",
       "       38755.926, 40263.047, 39531.48 , 38940.93 , 40360.406, 38334.047,\n",
       "       37802.02 , 38228.83 , 38661.547, 38064.79 , 38488.004, 37691.78 ,\n",
       "       36263.156, 38592.043, 37406.867, 38479.996, 40863.17 , 41486.582,\n",
       "       41557.52 , 41083.637, 42698.832, 42725.203, 42871.84 , 40928.574,\n",
       "       42273.8  , 42452.258, 42570.64 , 41670.367, 43137.945, 42902.312,\n",
       "       42788.855, 46494.285, 45285.26 , 44487.555, 44728.21 , 44820.66 ,\n",
       "       44862.105, 45002.89 , 44975.527, 44774.188, 43666.844, 42915.16 ,\n",
       "       43607.42 , 45051.707, 42369.777, 42524.062, 41298.527, 41789.79 ,\n",
       "       40197.96 , 40258.59 , 41111.14 , 40228.805, 40404.332, 38676.9  ,\n",
       "       40603.21 , 39216.297, 40847.508, 40445.45 , 39550.35 , 36954.754,\n",
       "       36119.766, 35778.168, 34947.176, 36393.16 , 35854.93 , 35902.27 ,\n",
       "       35830.34 , 36970.582, 34887.176, 35667.33 , 35635.37 , 36103.027,\n",
       "       34942.863, 36769.855, 35808.12 , 35733.99 , 34842.37 , 36085.566,\n",
       "       35402.047, 36143.805, 36047.715, 38005.93 , 36311.86 , 36906.848,\n",
       "       36001.133, 35016.227, 35021.53 , 35873.82 , 35712.824, 35388.12 ,\n",
       "       36259.082, 34870.49 , 34370.188, 34079.332, 35481.26 , 35605.816,\n",
       "       36354.383, 34737.055, 35587.4  , 36545.527, 35790.867, 36239.164,\n",
       "       35034.008, 33875.184, 35861.035, 35505.42 , 35814.188, 35211.63 ,\n",
       "       37520.92 , 37264.83 , 36546.21 , 38023.44 , 35828.15 , 37068.41 ,\n",
       "       37079.67 , 34785.87 , 36116.953, 35249.695, 36914.7  , 35757.566,\n",
       "       36302.223, 36042.375, 35629.953, 35919.117, 36272.9  , 35804.176,\n",
       "       36526.754, 35017.16 , 36547.113, 36148.34 , 36175.504, 35826.008,\n",
       "       36082.992, 33899.523, 34834.047, 34499.035, 35297.98 , 35244.35 ,\n",
       "       37149.812, 37379.44 , 36952.637, 37348.586, 36560.766, 35051.055,\n",
       "       35073.4  , 34552.145, 35168.414, 35453.9  , 33851.414, 35506.246,\n",
       "       35380.426, 36189.89 , 34923.938, 34570.684, 35478.59 , 35910.145,\n",
       "       36103.625, 34425.047, 34034.74 , 35521.277, 35538.14 , 35887.25 ,\n",
       "       35367.035, 33227.133, 35659.203, 35462.53 , 35658.613, 34500.81 ,\n",
       "       33842.69 , 34514.332, 34643.44 , 36113.598, 35099.836, 34818.484,\n",
       "       35458.082, 35795.008, 35629.977, 34404.867, 32962.74 , 34792.152,\n",
       "       34408.07 , 34135.297, 34527.234, 33629.938, 35233.934, 35042.715,\n",
       "       36012.297, 34900.855, 34753.695, 35775.184, 35562.367, 34613.15 ,\n",
       "       34081.027, 33981.19 , 34037.36 , 35132.836, 33841.49 , 34972.03 ,\n",
       "       35188.312, 35674.574, 34200.45 , 35828.543, 36157.81 , 36010.312,\n",
       "       34555.58 , 34526.973, 34635.355, 34164.297, 33838.254, 34576.086,\n",
       "       35972.254, 35368.31 , 34483.074, 34094.402, 34172.242, 35068.93 ,\n",
       "       35891.21 , 34202.65 , 34108.5  , 35255.605, 34699.21 , 33521.41 ,\n",
       "       34210.133, 34295.188, 34273.695, 35063.434, 35144.668, 34993.777,\n",
       "       34236.484, 33519.293, 34201.32 , 35632.023, 34167.82 , 35118.305,\n",
       "       35725.59 , 33142.156, 34178.74 , 34310.32 , 34175.582, 35021.01 ,\n",
       "       35569.918, 34320.742, 35450.28 , 35175.582, 34847.87 , 34914.89 ,\n",
       "       35829.184, 34881.15 , 35174.7  , 34221.24 , 35137.082, 35459.258,\n",
       "       36020.625, 35852.1  , 35165.047, 35455.32 , 35190.74 , 34156.72 ,\n",
       "       34595.098, 33753.562, 36048.73 , 34452.332, 35577.63 , 35888.477,\n",
       "       35091.133, 35590.266, 35618.777, 34698.918, 34507.285, 39357.613,\n",
       "       39655.67 , 37631.15 , 39368.99 , 40590.242, 36582.32 , 38685.203,\n",
       "       39622.62 , 40172.367, 40143.83 , 40738.992, 40770.26 , 42045.906,\n",
       "       41907.297, 42885.42 , 40177.414, 42003.6  , 42999.137, 42580.46 ,\n",
       "       42532.79 ], dtype=float32)"
      ]
     },
     "execution_count": 41,
     "metadata": {},
     "output_type": "execute_result"
    }
   ],
   "source": [
    "y_pred"
   ]
  },
  {
   "cell_type": "code",
   "execution_count": 42,
   "id": "fbb381c4",
   "metadata": {},
   "outputs": [],
   "source": [
    "y_['pred_close'] = y_pred"
   ]
  },
  {
   "cell_type": "code",
   "execution_count": 43,
   "id": "2889e47f",
   "metadata": {},
   "outputs": [
    {
     "data": {
      "text/html": [
       "<div>\n",
       "<style scoped>\n",
       "    .dataframe tbody tr th:only-of-type {\n",
       "        vertical-align: middle;\n",
       "    }\n",
       "\n",
       "    .dataframe tbody tr th {\n",
       "        vertical-align: top;\n",
       "    }\n",
       "\n",
       "    .dataframe thead th {\n",
       "        text-align: right;\n",
       "    }\n",
       "</style>\n",
       "<table border=\"1\" class=\"dataframe\">\n",
       "  <thead>\n",
       "    <tr style=\"text-align: right;\">\n",
       "      <th></th>\n",
       "      <th>Date</th>\n",
       "      <th>Close</th>\n",
       "      <th>pred_close</th>\n",
       "    </tr>\n",
       "  </thead>\n",
       "  <tbody>\n",
       "    <tr>\n",
       "      <th>0</th>\n",
       "      <td>2021-04-09 12:00:00</td>\n",
       "      <td>58724.0</td>\n",
       "      <td>58162.175781</td>\n",
       "    </tr>\n",
       "    <tr>\n",
       "      <th>1</th>\n",
       "      <td>2021-04-09 16:00:00</td>\n",
       "      <td>58395.0</td>\n",
       "      <td>58593.859375</td>\n",
       "    </tr>\n",
       "    <tr>\n",
       "      <th>2</th>\n",
       "      <td>2021-04-09 20:00:00</td>\n",
       "      <td>58263.0</td>\n",
       "      <td>58287.398438</td>\n",
       "    </tr>\n",
       "    <tr>\n",
       "      <th>3</th>\n",
       "      <td>2021-04-10 00:00:00</td>\n",
       "      <td>58346.0</td>\n",
       "      <td>57988.414062</td>\n",
       "    </tr>\n",
       "    <tr>\n",
       "      <th>4</th>\n",
       "      <td>2021-04-10 04:00:00</td>\n",
       "      <td>58500.0</td>\n",
       "      <td>57245.574219</td>\n",
       "    </tr>\n",
       "  </tbody>\n",
       "</table>\n",
       "</div>"
      ],
      "text/plain": [
       "                 Date    Close    pred_close\n",
       "0 2021-04-09 12:00:00  58724.0  58162.175781\n",
       "1 2021-04-09 16:00:00  58395.0  58593.859375\n",
       "2 2021-04-09 20:00:00  58263.0  58287.398438\n",
       "3 2021-04-10 00:00:00  58346.0  57988.414062\n",
       "4 2021-04-10 04:00:00  58500.0  57245.574219"
      ]
     },
     "execution_count": 43,
     "metadata": {},
     "output_type": "execute_result"
    }
   ],
   "source": [
    "y_.head()"
   ]
  },
  {
   "cell_type": "code",
   "execution_count": 46,
   "id": "f84dab8f",
   "metadata": {
    "scrolled": true
   },
   "outputs": [
    {
     "name": "stderr",
     "output_type": "stream",
     "text": [
      "<ipython-input-46-3d38f90fbacc>:10: UserWarning: Matplotlib is currently using module://ipykernel.pylab.backend_inline, which is a non-GUI backend, so cannot show the figure.\n",
      "  fig.show()\n"
     ]
    },
    {
     "data": {
      "image/png": "[encoded data removed]",
      "text/plain": [
       "<Figure size 1440x936 with 1 Axes>"
      ]
     },
     "metadata": {
      "needs_background": "light"
     },
     "output_type": "display_data"
    }
   ],
   "source": [
    "fig, ax = plt.subplots(figsize=(20,13))\n",
    "ax.plot(y_.Date, y_.Close, color='blue', label='Actual Price')\n",
    "ax.plot(y_.Date, y_.pred_close, color='red', label='Predicted Price')\n",
    "ax.legend(loc='best', fontsize=15)\n",
    "ax.set_title('Closing Price vs. Predicted Price', fontsize=40)\n",
    "ax.set_ylabel('Price (USD)', fontsize=25)\n",
    "ax.set_xlabel('Date', fontsize=25)\n",
    "ax.tick_params(axis='both', which='major', labelsize=17)\n",
    "\n",
    "fig.show()"
   ]
  },
  {
   "cell_type": "code",
   "execution_count": null,
   "id": "e1644e3c",
   "metadata": {},
   "outputs": [],
   "source": []
  }
 ],
 "metadata": {
  "kernelspec": {
   "display_name": "Python 3",
   "language": "python",
   "name": "python3"
  },
  "language_info": {
   "codemirror_mode": {
    "name": "ipython",
    "version": 3
   },
   "file_extension": ".py",
   "mimetype": "text/x-python",
   "name": "python",
   "nbconvert_exporter": "python",
   "pygments_lexer": "ipython3",
   "version": "3.8.8"
  }
 },
 "nbformat": 4,
 "nbformat_minor": 5
}
