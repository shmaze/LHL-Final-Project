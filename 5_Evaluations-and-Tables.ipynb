{
 "cells": [
  {
   "cell_type": "code",
   "execution_count": 1,
   "id": "46a8290d",
   "metadata": {},
   "outputs": [],
   "source": [
    "import pandas as pd"
   ]
  },
  {
   "cell_type": "code",
   "execution_count": 10,
   "id": "9e44de2b",
   "metadata": {},
   "outputs": [],
   "source": [
    "up_acc_overall = 67/(67+53)*100\n",
    "down_acc_overall = 44/(44+36)*100 \n",
    "up_55 = 61/(61+44)*100\n",
    "down_55 = 38/(38+31)*100\n",
    "up_60 = 53/(53+36)*100\n",
    "down_60 = 36/(36+27)*100\n",
    "    \n",
    "    \n",
    "    \n",
    "up = [up_acc_overall, up_55, up_60]\n",
    "down = [down_acc_overall, down_55, down_60]\n",
    "both= [up, down]\n",
    "\n",
    "metrics = pd.DataFrame(both, columns=['Overall Accuracy', 'Accuracy (55%+ Confidence)', 'Accuracy (60%+ Confidence)'])\n"
   ]
  },
  {
   "cell_type": "code",
   "execution_count": 11,
   "id": "a2ee7218",
   "metadata": {},
   "outputs": [],
   "source": [
    "metrics['Price'] = ['UP', 'DOWN']"
   ]
  },
  {
   "cell_type": "code",
   "execution_count": 12,
   "id": "0dbea47b",
   "metadata": {},
   "outputs": [],
   "source": [
    "metrics.set_index('Price', inplace=True)"
   ]
  },
  {
   "cell_type": "code",
   "execution_count": 13,
   "id": "f92e9947",
   "metadata": {},
   "outputs": [
    {
     "data": {
      "text/html": [
       "<div>\n",
       "<style scoped>\n",
       "    .dataframe tbody tr th:only-of-type {\n",
       "        vertical-align: middle;\n",
       "    }\n",
       "\n",
       "    .dataframe tbody tr th {\n",
       "        vertical-align: top;\n",
       "    }\n",
       "\n",
       "    .dataframe thead th {\n",
       "        text-align: right;\n",
       "    }\n",
       "</style>\n",
       "<table border=\"1\" class=\"dataframe\">\n",
       "  <thead>\n",
       "    <tr style=\"text-align: right;\">\n",
       "      <th></th>\n",
       "      <th>Overall Accuracy</th>\n",
       "      <th>Accuracy (55%+ Confidence)</th>\n",
       "      <th>Accuracy (60%+ Confidence)</th>\n",
       "    </tr>\n",
       "    <tr>\n",
       "      <th>Price</th>\n",
       "      <th></th>\n",
       "      <th></th>\n",
       "      <th></th>\n",
       "    </tr>\n",
       "  </thead>\n",
       "  <tbody>\n",
       "    <tr>\n",
       "      <th>UP</th>\n",
       "      <td>55.83</td>\n",
       "      <td>58.10</td>\n",
       "      <td>59.55</td>\n",
       "    </tr>\n",
       "    <tr>\n",
       "      <th>DOWN</th>\n",
       "      <td>55.00</td>\n",
       "      <td>55.07</td>\n",
       "      <td>57.14</td>\n",
       "    </tr>\n",
       "  </tbody>\n",
       "</table>\n",
       "</div>"
      ],
      "text/plain": [
       "       Overall Accuracy  Accuracy (55%+ Confidence)  \\\n",
       "Price                                                 \n",
       "UP                55.83                       58.10   \n",
       "DOWN              55.00                       55.07   \n",
       "\n",
       "       Accuracy (60%+ Confidence)  \n",
       "Price                              \n",
       "UP                          59.55  \n",
       "DOWN                        57.14  "
      ]
     },
     "execution_count": 13,
     "metadata": {},
     "output_type": "execute_result"
    }
   ],
   "source": [
    "metrics = metrics.round(2)\n",
    "metrics"
   ]
  }
 ],
 "metadata": {
  "kernelspec": {
   "display_name": "Python 3",
   "language": "python",
   "name": "python3"
  },
  "language_info": {
   "codemirror_mode": {
    "name": "ipython",
    "version": 3
   },
   "file_extension": ".py",
   "mimetype": "text/x-python",
   "name": "python",
   "nbconvert_exporter": "python",
   "pygments_lexer": "ipython3",
   "version": "3.8.8"
  }
 },
 "nbformat": 4,
 "nbformat_minor": 5
}
