{
 "cells": [
  {
   "cell_type": "markdown",
   "id": "e5008765",
   "metadata": {},
   "source": [
    "In this notebook we will continue on our process of visualizing our model peformance over time.\n",
    "\n",
    "Now that we have our script set up to update our database, we can query that database into a pandas dataframe for further processing and visualization options."
   ]
  },
  {
   "cell_type": "code",
   "execution_count": 1,
   "id": "96461132",
   "metadata": {},
   "outputs": [],
   "source": [
    "# we will need to define a function to query our SQL database \n",
    "# this query will retrieve only a selected number of columns, \n",
    "# we only need a handful of columns to accurately display our data and metrics\n",
    "\n",
    "# the columns we will be importing will be:\n",
    "#      date, close, prediction, confidence, true_label, correct"
   ]
  },
  {
   "cell_type": "code",
   "execution_count": 2,
   "id": "63d27c95",
   "metadata": {},
   "outputs": [],
   "source": [
    "# import necessary libraries\n",
    "\n",
    "import sqlite3\n",
    "import pandas as pd\n",
    "import numpy as np\n",
    "from binance.client import Client\n",
    "import joblib\n",
    "from sqlite3 import Error"
   ]
  },
  {
   "cell_type": "code",
   "execution_count": 3,
   "id": "17b043a3",
   "metadata": {},
   "outputs": [],
   "source": [
    "# now to define a new function to retrieve our desired data\n",
    "\n",
    "\n",
    "def from_database():\n",
    "    '''\n",
    "    This function takes in our fully evaluated predictions and writes them \n",
    "    to an SQL database for further reference.\n",
    "    '''\n",
    "    \n",
    "    conn = None\n",
    "    try:\n",
    "        conn = sqlite3.connect('bitcoin_model.db')\n",
    "        print('Connected Successfully!')\n",
    "    \n",
    "    except Error as e:\n",
    "        print(e)\n",
    "        \n",
    "    query = \"\"\"\n",
    "            SELECT Date, \n",
    "            Close, \n",
    "            Prediction, \n",
    "            Confidence, \n",
    "            True_Label, \n",
    "            Correct_Pred \n",
    "            FROM predictions\n",
    "            \"\"\"\n",
    "    \n",
    "    data = pd.read_sql(query, conn, parse_dates=['Date'])        # adding in the query, connection, and parsing date column as its correct format\n",
    "    data.set_index('Date', inplace=True)                         # setting the index of the resulting dataframe to the date column\n",
    "    conn.close()                                                 # closiung connection to database\n",
    "    \n",
    "    return data"
   ]
  },
  {
   "cell_type": "code",
   "execution_count": 14,
   "id": "33d98b0f",
   "metadata": {},
   "outputs": [
    {
     "name": "stdout",
     "output_type": "stream",
     "text": [
      "Connected Successfully!\n"
     ]
    },
    {
     "data": {
      "text/html": [
       "<div>\n",
       "<style scoped>\n",
       "    .dataframe tbody tr th:only-of-type {\n",
       "        vertical-align: middle;\n",
       "    }\n",
       "\n",
       "    .dataframe tbody tr th {\n",
       "        vertical-align: top;\n",
       "    }\n",
       "\n",
       "    .dataframe thead th {\n",
       "        text-align: right;\n",
       "    }\n",
       "</style>\n",
       "<table border=\"1\" class=\"dataframe\">\n",
       "  <thead>\n",
       "    <tr style=\"text-align: right;\">\n",
       "      <th></th>\n",
       "      <th>Close</th>\n",
       "      <th>Prediction</th>\n",
       "      <th>Confidence</th>\n",
       "      <th>True_Label</th>\n",
       "      <th>Correct_Pred</th>\n",
       "    </tr>\n",
       "    <tr>\n",
       "      <th>Date</th>\n",
       "      <th></th>\n",
       "      <th></th>\n",
       "      <th></th>\n",
       "      <th></th>\n",
       "      <th></th>\n",
       "    </tr>\n",
       "  </thead>\n",
       "  <tbody>\n",
       "    <tr>\n",
       "      <th>2021-12-05</th>\n",
       "      <td>49396.33</td>\n",
       "      <td>1</td>\n",
       "      <td>0.545161</td>\n",
       "      <td>1</td>\n",
       "      <td>1</td>\n",
       "    </tr>\n",
       "    <tr>\n",
       "      <th>2021-12-06</th>\n",
       "      <td>50441.92</td>\n",
       "      <td>1</td>\n",
       "      <td>0.707422</td>\n",
       "      <td>1</td>\n",
       "      <td>1</td>\n",
       "    </tr>\n",
       "    <tr>\n",
       "      <th>2021-12-06</th>\n",
       "      <td>50441.92</td>\n",
       "      <td>1</td>\n",
       "      <td>0.707422</td>\n",
       "      <td>1</td>\n",
       "      <td>1</td>\n",
       "    </tr>\n",
       "    <tr>\n",
       "      <th>2021-12-06</th>\n",
       "      <td>50441.92</td>\n",
       "      <td>1</td>\n",
       "      <td>0.707422</td>\n",
       "      <td>1</td>\n",
       "      <td>1</td>\n",
       "    </tr>\n",
       "    <tr>\n",
       "      <th>2021-12-06</th>\n",
       "      <td>50441.92</td>\n",
       "      <td>1</td>\n",
       "      <td>0.707422</td>\n",
       "      <td>1</td>\n",
       "      <td>1</td>\n",
       "    </tr>\n",
       "    <tr>\n",
       "      <th>2021-12-06</th>\n",
       "      <td>50441.92</td>\n",
       "      <td>1</td>\n",
       "      <td>0.707422</td>\n",
       "      <td>1</td>\n",
       "      <td>1</td>\n",
       "    </tr>\n",
       "  </tbody>\n",
       "</table>\n",
       "</div>"
      ],
      "text/plain": [
       "               Close  Prediction  Confidence  True_Label  Correct_Pred\n",
       "Date                                                                  \n",
       "2021-12-05  49396.33           1    0.545161           1             1\n",
       "2021-12-06  50441.92           1    0.707422           1             1\n",
       "2021-12-06  50441.92           1    0.707422           1             1\n",
       "2021-12-06  50441.92           1    0.707422           1             1\n",
       "2021-12-06  50441.92           1    0.707422           1             1\n",
       "2021-12-06  50441.92           1    0.707422           1             1"
      ]
     },
     "execution_count": 14,
     "metadata": {},
     "output_type": "execute_result"
    }
   ],
   "source": [
    "X = from_database()\n",
    "X"
   ]
  },
  {
   "cell_type": "code",
   "execution_count": 15,
   "id": "eaf4a166",
   "metadata": {},
   "outputs": [
    {
     "data": {
      "text/html": [
       "<div>\n",
       "<style scoped>\n",
       "    .dataframe tbody tr th:only-of-type {\n",
       "        vertical-align: middle;\n",
       "    }\n",
       "\n",
       "    .dataframe tbody tr th {\n",
       "        vertical-align: top;\n",
       "    }\n",
       "\n",
       "    .dataframe thead th {\n",
       "        text-align: right;\n",
       "    }\n",
       "</style>\n",
       "<table border=\"1\" class=\"dataframe\">\n",
       "  <thead>\n",
       "    <tr style=\"text-align: right;\">\n",
       "      <th></th>\n",
       "      <th>Close</th>\n",
       "      <th>Prediction</th>\n",
       "      <th>Confidence</th>\n",
       "      <th>True_Label</th>\n",
       "      <th>Correct_Pred</th>\n",
       "    </tr>\n",
       "    <tr>\n",
       "      <th>Date</th>\n",
       "      <th></th>\n",
       "      <th></th>\n",
       "      <th></th>\n",
       "      <th></th>\n",
       "      <th></th>\n",
       "    </tr>\n",
       "  </thead>\n",
       "  <tbody>\n",
       "    <tr>\n",
       "      <th>2021-12-05</th>\n",
       "      <td>49396.33</td>\n",
       "      <td>1</td>\n",
       "      <td>0.545161</td>\n",
       "      <td>1</td>\n",
       "      <td>1</td>\n",
       "    </tr>\n",
       "  </tbody>\n",
       "</table>\n",
       "</div>"
      ],
      "text/plain": [
       "               Close  Prediction  Confidence  True_Label  Correct_Pred\n",
       "Date                                                                  \n",
       "2021-12-05  49396.33           1    0.545161           1             1"
      ]
     },
     "execution_count": 15,
     "metadata": {},
     "output_type": "execute_result"
    }
   ],
   "source": [
    "X = X[0:1]\n",
    "X"
   ]
  },
  {
   "cell_type": "code",
   "execution_count": 12,
   "id": "1cf9382b",
   "metadata": {},
   "outputs": [
    {
     "data": {
      "text/plain": [
       "1"
      ]
     },
     "execution_count": 12,
     "metadata": {},
     "output_type": "execute_result"
    }
   ],
   "source": [
    "len(X['Correct_Pred'])"
   ]
  },
  {
   "cell_type": "code",
   "execution_count": 16,
   "id": "1f9fdf98",
   "metadata": {},
   "outputs": [],
   "source": [
    "# now we need to establish model accuracy measure\n",
    "# this will be the sum of the correct_pred column divided by its length\n",
    "# to do this we will calculate the metric each time the new data is imported and append it to a new column in the dataframe\n",
    "# after this new column is created we will establish a new database table which only stores our model metrics\n",
    "\n",
    "\n",
    "def model_metrics(X_from_db):\n",
    "    '''\n",
    "    This function will take in our queried dataframe and add a new column called model accuracy.\n",
    "    This will be updated daily as each new prediction is implemented.\n",
    "    '''\n",
    "    X_from_db['Model_Accuracy'] = 0\n",
    "    \n",
    "    model_acc = sum(X_from_db['Correct_Pred']) / len(X_from_db['Correct_Pred'])\n",
    "    X_from_db['Model_Accuracy'][-1:] = model_acc * 100\n",
    "    \n",
    "    return X_from_db.round(2)"
   ]
  },
  {
   "cell_type": "code",
   "execution_count": 17,
   "id": "a9fcec08",
   "metadata": {},
   "outputs": [
    {
     "name": "stderr",
     "output_type": "stream",
     "text": [
      "<ipython-input-16-49510ff364c5>:12: SettingWithCopyWarning: \n",
      "A value is trying to be set on a copy of a slice from a DataFrame.\n",
      "Try using .loc[row_indexer,col_indexer] = value instead\n",
      "\n",
      "See the caveats in the documentation: https://pandas.pydata.org/pandas-docs/stable/user_guide/indexing.html#returning-a-view-versus-a-copy\n",
      "  X_from_db['Model_Accuracy'] = 0\n",
      "<ipython-input-16-49510ff364c5>:15: SettingWithCopyWarning: \n",
      "A value is trying to be set on a copy of a slice from a DataFrame\n",
      "\n",
      "See the caveats in the documentation: https://pandas.pydata.org/pandas-docs/stable/user_guide/indexing.html#returning-a-view-versus-a-copy\n",
      "  X_from_db['Model_Accuracy'][-1:] = model_acc * 100\n",
      "/Users/shmaze/opt/anaconda3/lib/python3.8/site-packages/pandas/core/series.py:1105: SettingWithCopyWarning: \n",
      "A value is trying to be set on a copy of a slice from a DataFrame\n",
      "\n",
      "See the caveats in the documentation: https://pandas.pydata.org/pandas-docs/stable/user_guide/indexing.html#returning-a-view-versus-a-copy\n",
      "  return self._set_values(indexer, value)\n"
     ]
    },
    {
     "data": {
      "text/html": [
       "<div>\n",
       "<style scoped>\n",
       "    .dataframe tbody tr th:only-of-type {\n",
       "        vertical-align: middle;\n",
       "    }\n",
       "\n",
       "    .dataframe tbody tr th {\n",
       "        vertical-align: top;\n",
       "    }\n",
       "\n",
       "    .dataframe thead th {\n",
       "        text-align: right;\n",
       "    }\n",
       "</style>\n",
       "<table border=\"1\" class=\"dataframe\">\n",
       "  <thead>\n",
       "    <tr style=\"text-align: right;\">\n",
       "      <th></th>\n",
       "      <th>Close</th>\n",
       "      <th>Prediction</th>\n",
       "      <th>Confidence</th>\n",
       "      <th>True_Label</th>\n",
       "      <th>Correct_Pred</th>\n",
       "      <th>Model_Accuracy</th>\n",
       "    </tr>\n",
       "    <tr>\n",
       "      <th>Date</th>\n",
       "      <th></th>\n",
       "      <th></th>\n",
       "      <th></th>\n",
       "      <th></th>\n",
       "      <th></th>\n",
       "      <th></th>\n",
       "    </tr>\n",
       "  </thead>\n",
       "  <tbody>\n",
       "    <tr>\n",
       "      <th>2021-12-05</th>\n",
       "      <td>49396.33</td>\n",
       "      <td>1</td>\n",
       "      <td>0.55</td>\n",
       "      <td>1</td>\n",
       "      <td>1</td>\n",
       "      <td>100</td>\n",
       "    </tr>\n",
       "  </tbody>\n",
       "</table>\n",
       "</div>"
      ],
      "text/plain": [
       "               Close  Prediction  Confidence  True_Label  Correct_Pred  \\\n",
       "Date                                                                     \n",
       "2021-12-05  49396.33           1        0.55           1             1   \n",
       "\n",
       "            Model_Accuracy  \n",
       "Date                        \n",
       "2021-12-05             100  "
      ]
     },
     "execution_count": 17,
     "metadata": {},
     "output_type": "execute_result"
    }
   ],
   "source": [
    "model_metrics(X)"
   ]
  },
  {
   "cell_type": "code",
   "execution_count": 18,
   "id": "cbc6e3bf",
   "metadata": {},
   "outputs": [],
   "source": [
    "# define a new function to intake our X_evaluated dataframe and write it to our new \n",
    "# SQL database for future use\n",
    "\n",
    "def to_acc_db(X_from_db):\n",
    "    '''\n",
    "    This function takes in our model performance metrics dataframe and writes it to a new table in oura database.\n",
    "    '''\n",
    "    \n",
    "    conn = None\n",
    "    try:\n",
    "        conn = sqlite3.connect('bitcoin_model.db')\n",
    "        print('Connected Successfully!')\n",
    "    \n",
    "    except Error as e:\n",
    "        print(e)\n",
    "        \n",
    "    X_from_db[-1:].to_sql('performance', con=conn, if_exists='append')\n",
    "    \n",
    "        \n",
    "    conn.close()"
   ]
  },
  {
   "cell_type": "code",
   "execution_count": 19,
   "id": "97c44663",
   "metadata": {},
   "outputs": [
    {
     "name": "stderr",
     "output_type": "stream",
     "text": [
      "<ipython-input-16-49510ff364c5>:12: SettingWithCopyWarning: \n",
      "A value is trying to be set on a copy of a slice from a DataFrame.\n",
      "Try using .loc[row_indexer,col_indexer] = value instead\n",
      "\n",
      "See the caveats in the documentation: https://pandas.pydata.org/pandas-docs/stable/user_guide/indexing.html#returning-a-view-versus-a-copy\n",
      "  X_from_db['Model_Accuracy'] = 0\n",
      "<ipython-input-16-49510ff364c5>:15: SettingWithCopyWarning: \n",
      "A value is trying to be set on a copy of a slice from a DataFrame\n",
      "\n",
      "See the caveats in the documentation: https://pandas.pydata.org/pandas-docs/stable/user_guide/indexing.html#returning-a-view-versus-a-copy\n",
      "  X_from_db['Model_Accuracy'][-1:] = model_acc * 100\n",
      "/Users/shmaze/opt/anaconda3/lib/python3.8/site-packages/pandas/core/series.py:1105: SettingWithCopyWarning: \n",
      "A value is trying to be set on a copy of a slice from a DataFrame\n",
      "\n",
      "See the caveats in the documentation: https://pandas.pydata.org/pandas-docs/stable/user_guide/indexing.html#returning-a-view-versus-a-copy\n",
      "  return self._set_values(indexer, value)\n"
     ]
    }
   ],
   "source": [
    "X_from_db = model_metrics(X)"
   ]
  },
  {
   "cell_type": "code",
   "execution_count": 20,
   "id": "e8e003b6",
   "metadata": {},
   "outputs": [
    {
     "name": "stdout",
     "output_type": "stream",
     "text": [
      "Connected Successfully!\n"
     ]
    }
   ],
   "source": [
    "to_acc_db(X_from_db)"
   ]
  },
  {
   "cell_type": "markdown",
   "id": "329dc493",
   "metadata": {},
   "source": [
    "Excellent. This works exactly as intended. Now we have a seperate database which has all of our graphable info. Now upon first running model accuracy column will be created and appended to our data. This is then saved into a smaller more specific database"
   ]
  },
  {
   "cell_type": "code",
   "execution_count": 21,
   "id": "aa766b64",
   "metadata": {},
   "outputs": [],
   "source": [
    "# now to define a new function to retrieve our desired data for model metrics\n",
    "\n",
    "\n",
    "def from_acc_db():\n",
    "    '''\n",
    "    This function recalls our model metrics database and plots various values and metrics for model performance over time.\n",
    "    '''\n",
    "    \n",
    "    conn = None\n",
    "    try:\n",
    "        conn = sqlite3.connect('bitcoin_model.db')\n",
    "        print('Connected Successfully!')\n",
    "    \n",
    "    except Error as e:\n",
    "        print(e)\n",
    "        \n",
    "    query = \"\"\"\n",
    "            SELECT *\n",
    "            FROM performance\n",
    "            \"\"\"\n",
    "    \n",
    "    data = pd.read_sql(query, conn, parse_dates=['Date'])        # adding in the query, connection, and parsing date column as its correct format\n",
    "    data.set_index('Date', inplace=True)                         # setting the index of the resulting dataframe to the date column\n",
    "    conn.close()                                                 # closiung connection to database\n",
    "    \n",
    "    return data"
   ]
  },
  {
   "cell_type": "code",
   "execution_count": 22,
   "id": "66c59783",
   "metadata": {},
   "outputs": [
    {
     "name": "stdout",
     "output_type": "stream",
     "text": [
      "Connected Successfully!\n"
     ]
    },
    {
     "data": {
      "text/html": [
       "<div>\n",
       "<style scoped>\n",
       "    .dataframe tbody tr th:only-of-type {\n",
       "        vertical-align: middle;\n",
       "    }\n",
       "\n",
       "    .dataframe tbody tr th {\n",
       "        vertical-align: top;\n",
       "    }\n",
       "\n",
       "    .dataframe thead th {\n",
       "        text-align: right;\n",
       "    }\n",
       "</style>\n",
       "<table border=\"1\" class=\"dataframe\">\n",
       "  <thead>\n",
       "    <tr style=\"text-align: right;\">\n",
       "      <th></th>\n",
       "      <th>Close</th>\n",
       "      <th>Prediction</th>\n",
       "      <th>Confidence</th>\n",
       "      <th>True_Label</th>\n",
       "      <th>Correct_Pred</th>\n",
       "      <th>Model_Accuracy</th>\n",
       "    </tr>\n",
       "    <tr>\n",
       "      <th>Date</th>\n",
       "      <th></th>\n",
       "      <th></th>\n",
       "      <th></th>\n",
       "      <th></th>\n",
       "      <th></th>\n",
       "      <th></th>\n",
       "    </tr>\n",
       "  </thead>\n",
       "  <tbody>\n",
       "    <tr>\n",
       "      <th>2021-12-05</th>\n",
       "      <td>49396.33</td>\n",
       "      <td>1</td>\n",
       "      <td>0.55</td>\n",
       "      <td>1</td>\n",
       "      <td>1</td>\n",
       "      <td>100</td>\n",
       "    </tr>\n",
       "    <tr>\n",
       "      <th>2021-12-06</th>\n",
       "      <td>50441.92</td>\n",
       "      <td>1</td>\n",
       "      <td>0.71</td>\n",
       "      <td>1</td>\n",
       "      <td>1</td>\n",
       "      <td>100</td>\n",
       "    </tr>\n",
       "  </tbody>\n",
       "</table>\n",
       "</div>"
      ],
      "text/plain": [
       "               Close  Prediction  Confidence  True_Label  Correct_Pred  \\\n",
       "Date                                                                     \n",
       "2021-12-05  49396.33           1        0.55           1             1   \n",
       "2021-12-06  50441.92           1        0.71           1             1   \n",
       "\n",
       "            Model_Accuracy  \n",
       "Date                        \n",
       "2021-12-05             100  \n",
       "2021-12-06             100  "
      ]
     },
     "execution_count": 22,
     "metadata": {},
     "output_type": "execute_result"
    }
   ],
   "source": [
    "model_metrics = from_acc_db()\n",
    "model_metrics"
   ]
  },
  {
   "cell_type": "code",
   "execution_count": 23,
   "id": "48f5c9d4",
   "metadata": {},
   "outputs": [
    {
     "data": {
      "text/plain": [
       "2"
      ]
     },
     "execution_count": 23,
     "metadata": {},
     "output_type": "execute_result"
    }
   ],
   "source": [
    "sum(model_metrics.Prediction)"
   ]
  },
  {
   "cell_type": "code",
   "execution_count": 24,
   "id": "1e2cf8b8",
   "metadata": {},
   "outputs": [
    {
     "data": {
      "text/plain": [
       "Close             float64\n",
       "Prediction          int64\n",
       "Confidence        float64\n",
       "True_Label          int64\n",
       "Correct_Pred        int64\n",
       "Model_Accuracy      int64\n",
       "dtype: object"
      ]
     },
     "execution_count": 24,
     "metadata": {},
     "output_type": "execute_result"
    }
   ],
   "source": [
    "model_metrics.dtypes"
   ]
  },
  {
   "cell_type": "code",
   "execution_count": 25,
   "id": "808d135d",
   "metadata": {},
   "outputs": [
    {
     "data": {
      "text/html": [
       "<div>\n",
       "<style scoped>\n",
       "    .dataframe tbody tr th:only-of-type {\n",
       "        vertical-align: middle;\n",
       "    }\n",
       "\n",
       "    .dataframe tbody tr th {\n",
       "        vertical-align: top;\n",
       "    }\n",
       "\n",
       "    .dataframe thead th {\n",
       "        text-align: right;\n",
       "    }\n",
       "</style>\n",
       "<table border=\"1\" class=\"dataframe\">\n",
       "  <thead>\n",
       "    <tr style=\"text-align: right;\">\n",
       "      <th></th>\n",
       "      <th>Close</th>\n",
       "      <th>Prediction</th>\n",
       "      <th>Confidence</th>\n",
       "      <th>True_Label</th>\n",
       "      <th>Correct_Pred</th>\n",
       "      <th>Model_Accuracy</th>\n",
       "    </tr>\n",
       "    <tr>\n",
       "      <th>Date</th>\n",
       "      <th></th>\n",
       "      <th></th>\n",
       "      <th></th>\n",
       "      <th></th>\n",
       "      <th></th>\n",
       "      <th></th>\n",
       "    </tr>\n",
       "  </thead>\n",
       "  <tbody>\n",
       "    <tr>\n",
       "      <th>2021-12-05</th>\n",
       "      <td>49396.33</td>\n",
       "      <td>1</td>\n",
       "      <td>0.55</td>\n",
       "      <td>1</td>\n",
       "      <td>1</td>\n",
       "      <td>100</td>\n",
       "    </tr>\n",
       "    <tr>\n",
       "      <th>2021-12-06</th>\n",
       "      <td>50441.92</td>\n",
       "      <td>1</td>\n",
       "      <td>0.71</td>\n",
       "      <td>1</td>\n",
       "      <td>1</td>\n",
       "      <td>100</td>\n",
       "    </tr>\n",
       "  </tbody>\n",
       "</table>\n",
       "</div>"
      ],
      "text/plain": [
       "               Close  Prediction  Confidence  True_Label  Correct_Pred  \\\n",
       "Date                                                                     \n",
       "2021-12-05  49396.33           1        0.55           1             1   \n",
       "2021-12-06  50441.92           1        0.71           1             1   \n",
       "\n",
       "            Model_Accuracy  \n",
       "Date                        \n",
       "2021-12-05             100  \n",
       "2021-12-06             100  "
      ]
     },
     "execution_count": 25,
     "metadata": {},
     "output_type": "execute_result"
    }
   ],
   "source": [
    "model_metrics[model_metrics['Prediction'] == model_metrics['True_Label']]"
   ]
  },
  {
   "cell_type": "code",
   "execution_count": 26,
   "id": "6ed3d57e",
   "metadata": {},
   "outputs": [],
   "source": [
    "# now we want to establish what we would like to display from our model metrics\n",
    "# date vs accuracy is obviously important\n",
    "# we also want to show price vs time and some way to show amount to correct predictions\n",
    "import matplotlib.pyplot as plt\n",
    "\n",
    "def display_model_performance(model_metrics_df):\n",
    "    '''\n",
    "    This function takes in the pandas dataframe created when retrieving accuracy metrics from associated dataframe.\n",
    "    It returns total number of predictions made, total number of correct predictions,\n",
    "    number if correct predictions per class, model accuracy over time.\n",
    "    \n",
    "    This function will output dsiplays and graphs to showcase this data.\n",
    "    '''\n",
    "    \n",
    "    \n",
    "    # first step is to set all variables to be displayed in our metrics\n",
    "    total_predictions = len(model_metrics_df)\n",
    "    total_1_pred = sum(model_metrics_df.Prediction)\n",
    "    total_0_pred = total_predictions - total_1_pred\n",
    "    total_correct = sum(model_metrics_df.Correct_Pred)\n",
    "    current_acc = model_metrics_df.Model_Accuracy[-1:]\n",
    "    \n",
    "    correct_only = model_metrics[model_metrics['Prediction'] == model_metrics['True_Label']]\n",
    "    correct_1 = sum(correct_only.True_Label)\n",
    "    correct_0 = len(correct_only) - correct_1\n",
    "    acc_1 = correct_1 / total_1_pred * 100\n",
    "    if total_0_pred == 0:\n",
    "        acc_0 = 100.0\n",
    "    else:\n",
    "        acc_0 = correct_0 / total_0_pred\n",
    "    \n",
    "   \n",
    "    \n",
    "    fig, (ax1, ax2)  = plt.subplots(2,1, figsize=(15,9))\n",
    "    \n",
    "    ax1.bar([0,1], [total_0_pred, total_1_pred] , color='royalblue', width=0.4,label='Predicted')\n",
    "    ax1.bar([0+0.4,1+0.4], [correct_0, correct_1], color='seagreen', width=0.4, label='Correct')\n",
    "    ax1.set_xticks([0,1])\n",
    "    ax1.set_xticklabels(labels=[0,1], fontsize=20)\n",
    "    ax1.set_xlabel('Class', fontsize=25)\n",
    "    ax1.set_title('Predicted vs. Correct for Each Class', fontsize=35)\n",
    "    ax1.set_yticks(range(0, total_predictions, 1))\n",
    "    ax1.set_yticklabels(range(0, total_predictions, 1), fontsize=20)\n",
    "    ax1.set_ylabel('Count', fontsize=20)\n",
    "    ax1.legend(fontsize=15)\n",
    "                   \n",
    "    \n",
    "    ax2.plot(model_metrics_df.index, model_metrics_df.Model_Accuracy, label='Accuracy (%)', marker='o')  \n",
    "    ax2.set_title('Model Accuracy Over Time', fontsize=35)\n",
    "    ax2.set_yticks(range(0,110,10))\n",
    "    ax2.set_ylabel('Model Accuracy (%)', fontsize=20)\n",
    "    ax2.set_xlabel('Date', fontsize=20)\n",
    "    ax2.tick_params(axis='both', which='major', labelsize=15)\n",
    "    \n",
    "    fig.tight_layout(pad=3)\n",
    "    fig.show()\n",
    "    \n",
    "    metrics = pd.DataFrame({'Predictions': total_predictions,\n",
    "                            'Correct': total_correct,\n",
    "                            'Live Accuracy': current_acc,\n",
    "                            'Up Accuracy': acc_1,\n",
    "                            'Down Accuracy': acc_0\n",
    "                           })\n",
    "    return metrics.round(2)"
   ]
  },
  {
   "cell_type": "code",
   "execution_count": 27,
   "id": "956723a3",
   "metadata": {},
   "outputs": [
    {
     "name": "stderr",
     "output_type": "stream",
     "text": [
      "<ipython-input-26-ef7959db9e6d>:56: UserWarning: Matplotlib is currently using module://ipykernel.pylab.backend_inline, which is a non-GUI backend, so cannot show the figure.\n",
      "  fig.show()\n"
     ]
    },
    {
     "data": {
      "text/html": [
       "<div>\n",
       "<style scoped>\n",
       "    .dataframe tbody tr th:only-of-type {\n",
       "        vertical-align: middle;\n",
       "    }\n",
       "\n",
       "    .dataframe tbody tr th {\n",
       "        vertical-align: top;\n",
       "    }\n",
       "\n",
       "    .dataframe thead th {\n",
       "        text-align: right;\n",
       "    }\n",
       "</style>\n",
       "<table border=\"1\" class=\"dataframe\">\n",
       "  <thead>\n",
       "    <tr style=\"text-align: right;\">\n",
       "      <th></th>\n",
       "      <th>Predictions</th>\n",
       "      <th>Correct</th>\n",
       "      <th>Live Accuracy</th>\n",
       "      <th>Up Accuracy</th>\n",
       "      <th>Down Accuracy</th>\n",
       "    </tr>\n",
       "    <tr>\n",
       "      <th>Date</th>\n",
       "      <th></th>\n",
       "      <th></th>\n",
       "      <th></th>\n",
       "      <th></th>\n",
       "      <th></th>\n",
       "    </tr>\n",
       "  </thead>\n",
       "  <tbody>\n",
       "    <tr>\n",
       "      <th>2021-12-06</th>\n",
       "      <td>2</td>\n",
       "      <td>2</td>\n",
       "      <td>100</td>\n",
       "      <td>100.0</td>\n",
       "      <td>100.0</td>\n",
       "    </tr>\n",
       "  </tbody>\n",
       "</table>\n",
       "</div>"
      ],
      "text/plain": [
       "            Predictions  Correct  Live Accuracy  Up Accuracy  Down Accuracy\n",
       "Date                                                                       \n",
       "2021-12-06            2        2            100        100.0          100.0"
      ]
     },
     "execution_count": 27,
     "metadata": {},
     "output_type": "execute_result"
    },
    {
     "data": {
      "image/png": "[encoded data removed]",
      "text/plain": [
       "<Figure size 1080x648 with 2 Axes>"
      ]
     },
     "metadata": {
      "needs_background": "light"
     },
     "output_type": "display_data"
    }
   ],
   "source": [
    "display_model_performance(model_metrics)"
   ]
  },
  {
   "cell_type": "markdown",
   "id": "14c2cd18",
   "metadata": {},
   "source": [
    "This looks to be a fine representation of current model performance. The next step is to attempt to use this information to quantify our gains and losses.\n",
    "This will be explored further in the next notebook. We now have all the functions necessary to continually gather information and write it to our database, as the database grows, so will out model accuracy graph as more days are added. These functions will allow us to track model performance over time.\n",
    "\n",
    "Another upcoming step will be to attempt automatic deployment, scheduling the timing of running a combination of scripts to publish a daily report with above model performance, daily prediction, and current trackings of up-to-date profits and losses."
   ]
  }
 ],
 "metadata": {
  "kernelspec": {
   "display_name": "Python 3",
   "language": "python",
   "name": "python3"
  },
  "language_info": {
   "codemirror_mode": {
    "name": "ipython",
    "version": 3
   },
   "file_extension": ".py",
   "mimetype": "text/x-python",
   "name": "python",
   "nbconvert_exporter": "python",
   "pygments_lexer": "ipython3",
   "version": "3.8.8"
  }
 },
 "nbformat": 4,
 "nbformat_minor": 5
}
