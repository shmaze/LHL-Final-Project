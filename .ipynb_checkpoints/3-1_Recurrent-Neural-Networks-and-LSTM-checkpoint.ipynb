{
 "cells": [
  {
   "cell_type": "markdown",
   "id": "5c8ead54",
   "metadata": {},
   "source": [
    "In this notebook we will explore using a recurrent neural network (RNN) and long short term memory applications (LSTM) of the keras library to predict prices."
   ]
  },
  {
   "cell_type": "code",
   "execution_count": null,
   "id": "33ba7b7d",
   "metadata": {},
   "outputs": [],
   "source": []
  }
 ],
 "metadata": {
  "kernelspec": {
   "display_name": "Python 3",
   "language": "python",
   "name": "python3"
  },
  "language_info": {
   "codemirror_mode": {
    "name": "ipython",
    "version": 3
   },
   "file_extension": ".py",
   "mimetype": "text/x-python",
   "name": "python",
   "nbconvert_exporter": "python",
   "pygments_lexer": "ipython3",
   "version": "3.8.8"
  }
 },
 "nbformat": 4,
 "nbformat_minor": 5
}
