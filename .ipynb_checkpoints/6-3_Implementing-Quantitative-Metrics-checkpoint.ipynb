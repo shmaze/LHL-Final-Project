{
 "cells": [
  {
   "cell_type": "markdown",
   "id": "46aa7481",
   "metadata": {},
   "source": [
    "In this notebook I will be setting up functions which will access both our database for previous price entry points and validation of trades, as well as current price data to quantify our gains and losses.\n",
    "I will do this by importing our model peformance database columns of close price as entry point, and correct trade as a validator. After importing these columns, we will access the current daily price of Bitcoin to compare against our entry price. If the prediction was correct, we will take the positive absolute value of the percentage difference between entry price and current price; otherwise, the negative absolute percentage value will be taken. After this our stake amount will be modified by this percentage modifier to give our new stake amount, stake amount will be tracked progressively through time and will be implemented into our model_performance script."
   ]
  },
  {
   "cell_type": "code",
   "execution_count": 2,
   "id": "471d763e",
   "metadata": {},
   "outputs": [],
   "source": [
    "import pandas as pd\n",
    "import numpy as np\n",
    "from binance import Client\n",
    "import sqlite3\n",
    "from sqlite3 import Error\n",
    "import matplotlib.pyplot as plt"
   ]
  },
  {
   "cell_type": "code",
   "execution_count": 4,
   "id": "1c7c0fd4",
   "metadata": {},
   "outputs": [],
   "source": [
    "# we will slightly modify a function used in previous sections to access our desired columns only\n",
    "\n",
    "\n",
    "def get_trade_info(limit=1):\n",
    "    '''\n",
    "    This will retrieve our most recent prediction\n",
    "    '''\n",
    "    \n",
    "    conn = None\n",
    "    try:\n",
    "        conn = sqlite3.connect('bitcoin_model.db')\n",
    "        print('Connected Successfully!')\n",
    "    \n",
    "    except Error as e:\n",
    "        print(e)\n",
    "        \n",
    "    if limit==None:\n",
    "        query = \"\"\"\n",
    "            SELECT Date, Close as Entry, Correct_Pred as Win\n",
    "            FROM performance ORDER BY Date DESC\n",
    "            \"\"\"\n",
    "    else:\n",
    "        query = f\"\"\"\n",
    "            SELECT Date, Close as Entry, Correct_Pred as Win\n",
    "            FROM performance ORDER BY Date DESC LIMIT {limit}\n",
    "            \"\"\"\n",
    "    \n",
    "    data = pd.read_sql(query, conn, parse_dates=['Date'])        # adding in the query, connection, and parsing date column as its correct format\n",
    "    data.set_index('Date', inplace=True)                         # setting the index of the resulting dataframe to the date column\n",
    "    conn.close()                                                 # closiung connection to database\n",
    "    \n",
    "    return data"
   ]
  },
  {
   "cell_type": "code",
   "execution_count": 5,
   "id": "52b5171d",
   "metadata": {},
   "outputs": [
    {
     "name": "stdout",
     "output_type": "stream",
     "text": [
      "Connected Successfully!\n"
     ]
    },
    {
     "data": {
      "text/html": [
       "<div>\n",
       "<style scoped>\n",
       "    .dataframe tbody tr th:only-of-type {\n",
       "        vertical-align: middle;\n",
       "    }\n",
       "\n",
       "    .dataframe tbody tr th {\n",
       "        vertical-align: top;\n",
       "    }\n",
       "\n",
       "    .dataframe thead th {\n",
       "        text-align: right;\n",
       "    }\n",
       "</style>\n",
       "<table border=\"1\" class=\"dataframe\">\n",
       "  <thead>\n",
       "    <tr style=\"text-align: right;\">\n",
       "      <th></th>\n",
       "      <th>Entry</th>\n",
       "      <th>Win</th>\n",
       "    </tr>\n",
       "    <tr>\n",
       "      <th>Date</th>\n",
       "      <th></th>\n",
       "      <th></th>\n",
       "    </tr>\n",
       "  </thead>\n",
       "  <tbody>\n",
       "    <tr>\n",
       "      <th>2021-12-07</th>\n",
       "      <td>50588.95</td>\n",
       "      <td>1</td>\n",
       "    </tr>\n",
       "    <tr>\n",
       "      <th>2021-12-06</th>\n",
       "      <td>50441.92</td>\n",
       "      <td>1</td>\n",
       "    </tr>\n",
       "    <tr>\n",
       "      <th>2021-12-05</th>\n",
       "      <td>49396.33</td>\n",
       "      <td>1</td>\n",
       "    </tr>\n",
       "  </tbody>\n",
       "</table>\n",
       "</div>"
      ],
      "text/plain": [
       "               Entry  Win\n",
       "Date                     \n",
       "2021-12-07  50588.95    1\n",
       "2021-12-06  50441.92    1\n",
       "2021-12-05  49396.33    1"
      ]
     },
     "execution_count": 5,
     "metadata": {},
     "output_type": "execute_result"
    }
   ],
   "source": [
    "get_trade_info(limit=None)"
   ]
  },
  {
   "cell_type": "code",
   "execution_count": null,
   "id": "fb463726",
   "metadata": {},
   "outputs": [],
   "source": []
  },
  {
   "cell_type": "code",
   "execution_count": 6,
   "id": "4d78b849",
   "metadata": {
    "scrolled": true
   },
   "outputs": [
    {
     "name": "stdout",
     "output_type": "stream",
     "text": [
      "Connected Successfully!\n"
     ]
    },
    {
     "data": {
      "text/html": [
       "<div>\n",
       "<style scoped>\n",
       "    .dataframe tbody tr th:only-of-type {\n",
       "        vertical-align: middle;\n",
       "    }\n",
       "\n",
       "    .dataframe tbody tr th {\n",
       "        vertical-align: top;\n",
       "    }\n",
       "\n",
       "    .dataframe thead th {\n",
       "        text-align: right;\n",
       "    }\n",
       "</style>\n",
       "<table border=\"1\" class=\"dataframe\">\n",
       "  <thead>\n",
       "    <tr style=\"text-align: right;\">\n",
       "      <th></th>\n",
       "      <th>Entry</th>\n",
       "      <th>Win</th>\n",
       "    </tr>\n",
       "    <tr>\n",
       "      <th>Date</th>\n",
       "      <th></th>\n",
       "      <th></th>\n",
       "    </tr>\n",
       "  </thead>\n",
       "  <tbody>\n",
       "    <tr>\n",
       "      <th>2021-12-07</th>\n",
       "      <td>50588.95</td>\n",
       "      <td>1</td>\n",
       "    </tr>\n",
       "  </tbody>\n",
       "</table>\n",
       "</div>"
      ],
      "text/plain": [
       "               Entry  Win\n",
       "Date                     \n",
       "2021-12-07  50588.95    1"
      ]
     },
     "execution_count": 6,
     "metadata": {},
     "output_type": "execute_result"
    }
   ],
   "source": [
    "get_trade_info()"
   ]
  },
  {
   "cell_type": "code",
   "execution_count": 12,
   "id": "cbbff5da",
   "metadata": {},
   "outputs": [],
   "source": [
    "# we will slightly modify our data gathering function from our predictor script\n",
    "\n",
    "def get_price():\n",
    "    \n",
    "    '''\n",
    "    This function will execute API call to Binance to retrieve data.\n",
    "    We will export the results of this data into the appropriately named dataframe for further feature engineering.\n",
    "    '''\n",
    "    \n",
    "    client = Client()\n",
    "    # establishing our blank client\n",
    "    \n",
    "    candles = client.get_klines(symbol='BTCUSDT', interval=Client.KLINE_INTERVAL_1DAY, limit=1)\n",
    "    # we only need to request the most recent entry\n",
    "    \n",
    "    data = pd.DataFrame(candles, columns=['Date', 'Open', 'High', 'Low', 'Close', 'Volume', 'Close time', 'Quote asset volume', 'Number of trades', 'Taker buy base volume', 'Taker buy quote volume', 'Ignore'])\n",
    "    # these column labels are as labelled on the Binance API documentation\n",
    "    \n",
    "    price = data[['Date', 'Close']]\n",
    "    # taking only the desired columns\n",
    "    \n",
    "    price['Date'] = price['Date'].apply(lambda x: pd.to_datetime(x, unit='ms'))\n",
    "    # setting date to proper format\n",
    "    \n",
    "    price.set_index('Date', inplace=True)\n",
    "    #setting our index\n",
    "    \n",
    "    \n",
    "    return price"
   ]
  },
  {
   "cell_type": "code",
   "execution_count": 20,
   "id": "fb762c2f",
   "metadata": {},
   "outputs": [
    {
     "name": "stderr",
     "output_type": "stream",
     "text": [
      "<ipython-input-12-2acfdaa6db6b>:22: SettingWithCopyWarning: \n",
      "A value is trying to be set on a copy of a slice from a DataFrame.\n",
      "Try using .loc[row_indexer,col_indexer] = value instead\n",
      "\n",
      "See the caveats in the documentation: https://pandas.pydata.org/pandas-docs/stable/user_guide/indexing.html#returning-a-view-versus-a-copy\n",
      "  price['Date'] = price['Date'].apply(lambda x: pd.to_datetime(x, unit='ms'))\n"
     ]
    },
    {
     "data": {
      "text/plain": [
       "Close    object\n",
       "dtype: object"
      ]
     },
     "execution_count": 20,
     "metadata": {},
     "output_type": "execute_result"
    }
   ],
   "source": [
    "get_price().dtypes"
   ]
  },
  {
   "cell_type": "code",
   "execution_count": 107,
   "id": "83c12b31",
   "metadata": {},
   "outputs": [],
   "source": [
    "# now to create a function that will calcuate our net percentage difference in price change and assign a value against \n",
    "# todays price which will be fetched from binance\n",
    "\n",
    "\n",
    "def get_gains():\n",
    "    '''\n",
    "    This function will intake the resulting dataframes from the get_trade_info  and get_price functions and check the result against \n",
    "    our entry price. This will then calculate a net percentage change. Using the value in the \"win\" column,\n",
    "    we can tell the function to apply a positive or negative change to our stake value. All of this data will then\n",
    "    be stored to a new database for recall.\n",
    "    '''\n",
    "    trades = get_trade_info()\n",
    "    price = get_price()\n",
    "    price.Close = price.Close.astype('float')\n",
    "    stake_in = from_gains()\n",
    "    \n",
    "    \n",
    "    trades['Exit'] = price.Close.values\n",
    "    net_change = abs(trades.Exit - trades.Entry)\n",
    "    trades['Pct_Change'] = 0\n",
    "    trades['Gains(%)'] = 0\n",
    "    trades['Stake_In'] = stake_in\n",
    "    trades['Stake_Out'] = 0\n",
    "    trades['Net_Profits'] = 0\n",
    "    trades['Profit_YTD'] = 0\n",
    "    trades['ROI(%)'] = 0\n",
    "    \n",
    "    \n",
    "    pct = net_change / trades.Entry\n",
    "    trades['Pct_Change'] = pct\n",
    "    trades['Gains(%)'] = -(trades.Pct_Change) if trades.Win.values == 0 else trades.Pct_Change\n",
    "    trades['Stake_Out'] = trades.Stake_In + (trades.Stake_In * trades['Gains(%)'])\n",
    "    trades['Net_Profits'] = trades.Stake_Out - trades.Stake_In\n",
    "    trades['Profit_YTD'] = trades.Stake_Out - 1000\n",
    "    trades['ROI(%)'] = trades.Profit_YTD / 1000\n",
    "    \n",
    "    \n",
    "    trades\n",
    "    \n",
    "    return trades"
   ]
  },
  {
   "cell_type": "code",
   "execution_count": 111,
   "id": "f7e536fe",
   "metadata": {
    "scrolled": true
   },
   "outputs": [
    {
     "name": "stdout",
     "output_type": "stream",
     "text": [
      "Connected Successfully!\n",
      "Connected Successfully!\n"
     ]
    },
    {
     "name": "stderr",
     "output_type": "stream",
     "text": [
      "<ipython-input-12-2acfdaa6db6b>:22: SettingWithCopyWarning: \n",
      "A value is trying to be set on a copy of a slice from a DataFrame.\n",
      "Try using .loc[row_indexer,col_indexer] = value instead\n",
      "\n",
      "See the caveats in the documentation: https://pandas.pydata.org/pandas-docs/stable/user_guide/indexing.html#returning-a-view-versus-a-copy\n",
      "  price['Date'] = price['Date'].apply(lambda x: pd.to_datetime(x, unit='ms'))\n"
     ]
    },
    {
     "data": {
      "text/html": [
       "<div>\n",
       "<style scoped>\n",
       "    .dataframe tbody tr th:only-of-type {\n",
       "        vertical-align: middle;\n",
       "    }\n",
       "\n",
       "    .dataframe tbody tr th {\n",
       "        vertical-align: top;\n",
       "    }\n",
       "\n",
       "    .dataframe thead th {\n",
       "        text-align: right;\n",
       "    }\n",
       "</style>\n",
       "<table border=\"1\" class=\"dataframe\">\n",
       "  <thead>\n",
       "    <tr style=\"text-align: right;\">\n",
       "      <th></th>\n",
       "      <th>Entry</th>\n",
       "      <th>Win</th>\n",
       "      <th>Exit</th>\n",
       "      <th>Pct_Change</th>\n",
       "      <th>Gains(%)</th>\n",
       "      <th>Stake_In</th>\n",
       "      <th>Stake_Out</th>\n",
       "      <th>Net_Profits</th>\n",
       "      <th>Profit_YTD</th>\n",
       "      <th>ROI(%)</th>\n",
       "    </tr>\n",
       "    <tr>\n",
       "      <th>Date</th>\n",
       "      <th></th>\n",
       "      <th></th>\n",
       "      <th></th>\n",
       "      <th></th>\n",
       "      <th></th>\n",
       "      <th></th>\n",
       "      <th></th>\n",
       "      <th></th>\n",
       "      <th></th>\n",
       "      <th></th>\n",
       "    </tr>\n",
       "  </thead>\n",
       "  <tbody>\n",
       "    <tr>\n",
       "      <th>2021-12-07</th>\n",
       "      <td>50588.95</td>\n",
       "      <td>1</td>\n",
       "      <td>50543.82</td>\n",
       "      <td>0.000892</td>\n",
       "      <td>0.000892</td>\n",
       "      <td>1026.487048</td>\n",
       "      <td>1027.402769</td>\n",
       "      <td>0.915721</td>\n",
       "      <td>27.402769</td>\n",
       "      <td>0.027403</td>\n",
       "    </tr>\n",
       "  </tbody>\n",
       "</table>\n",
       "</div>"
      ],
      "text/plain": [
       "               Entry  Win      Exit  Pct_Change  Gains(%)     Stake_In  \\\n",
       "Date                                                                     \n",
       "2021-12-07  50588.95    1  50543.82    0.000892  0.000892  1026.487048   \n",
       "\n",
       "              Stake_Out  Net_Profits  Profit_YTD    ROI(%)  \n",
       "Date                                                        \n",
       "2021-12-07  1027.402769     0.915721   27.402769  0.027403  "
      ]
     },
     "execution_count": 111,
     "metadata": {},
     "output_type": "execute_result"
    }
   ],
   "source": [
    "get_gains()"
   ]
  },
  {
   "cell_type": "code",
   "execution_count": 110,
   "id": "8af247bd",
   "metadata": {},
   "outputs": [
    {
     "name": "stdout",
     "output_type": "stream",
     "text": [
      "Connected Successfully!\n"
     ]
    }
   ],
   "source": [
    "gains_db(Y)"
   ]
  },
  {
   "cell_type": "code",
   "execution_count": 34,
   "id": "c262c2fc",
   "metadata": {},
   "outputs": [
    {
     "name": "stdout",
     "output_type": "stream",
     "text": [
      "Connected Successfully!\n"
     ]
    }
   ],
   "source": [
    "X = get_trade_info(limit=None)\n",
    "\n",
    "X2 = X.tail(2)"
   ]
  },
  {
   "cell_type": "code",
   "execution_count": 35,
   "id": "62ee67e1",
   "metadata": {},
   "outputs": [
    {
     "data": {
      "text/html": [
       "<div>\n",
       "<style scoped>\n",
       "    .dataframe tbody tr th:only-of-type {\n",
       "        vertical-align: middle;\n",
       "    }\n",
       "\n",
       "    .dataframe tbody tr th {\n",
       "        vertical-align: top;\n",
       "    }\n",
       "\n",
       "    .dataframe thead th {\n",
       "        text-align: right;\n",
       "    }\n",
       "</style>\n",
       "<table border=\"1\" class=\"dataframe\">\n",
       "  <thead>\n",
       "    <tr style=\"text-align: right;\">\n",
       "      <th></th>\n",
       "      <th>Entry</th>\n",
       "      <th>Win</th>\n",
       "    </tr>\n",
       "    <tr>\n",
       "      <th>Date</th>\n",
       "      <th></th>\n",
       "      <th></th>\n",
       "    </tr>\n",
       "  </thead>\n",
       "  <tbody>\n",
       "    <tr>\n",
       "      <th>2021-12-07</th>\n",
       "      <td>50588.95</td>\n",
       "      <td>1</td>\n",
       "    </tr>\n",
       "    <tr>\n",
       "      <th>2021-12-06</th>\n",
       "      <td>50441.92</td>\n",
       "      <td>1</td>\n",
       "    </tr>\n",
       "    <tr>\n",
       "      <th>2021-12-05</th>\n",
       "      <td>49396.33</td>\n",
       "      <td>1</td>\n",
       "    </tr>\n",
       "  </tbody>\n",
       "</table>\n",
       "</div>"
      ],
      "text/plain": [
       "               Entry  Win\n",
       "Date                     \n",
       "2021-12-07  50588.95    1\n",
       "2021-12-06  50441.92    1\n",
       "2021-12-05  49396.33    1"
      ]
     },
     "execution_count": 35,
     "metadata": {},
     "output_type": "execute_result"
    }
   ],
   "source": [
    "X"
   ]
  },
  {
   "cell_type": "code",
   "execution_count": 36,
   "id": "84e22f4e",
   "metadata": {},
   "outputs": [
    {
     "data": {
      "text/html": [
       "<div>\n",
       "<style scoped>\n",
       "    .dataframe tbody tr th:only-of-type {\n",
       "        vertical-align: middle;\n",
       "    }\n",
       "\n",
       "    .dataframe tbody tr th {\n",
       "        vertical-align: top;\n",
       "    }\n",
       "\n",
       "    .dataframe thead th {\n",
       "        text-align: right;\n",
       "    }\n",
       "</style>\n",
       "<table border=\"1\" class=\"dataframe\">\n",
       "  <thead>\n",
       "    <tr style=\"text-align: right;\">\n",
       "      <th></th>\n",
       "      <th>Entry</th>\n",
       "      <th>Win</th>\n",
       "    </tr>\n",
       "    <tr>\n",
       "      <th>Date</th>\n",
       "      <th></th>\n",
       "      <th></th>\n",
       "    </tr>\n",
       "  </thead>\n",
       "  <tbody>\n",
       "    <tr>\n",
       "      <th>2021-12-06</th>\n",
       "      <td>50441.92</td>\n",
       "      <td>1</td>\n",
       "    </tr>\n",
       "    <tr>\n",
       "      <th>2021-12-05</th>\n",
       "      <td>49396.33</td>\n",
       "      <td>1</td>\n",
       "    </tr>\n",
       "  </tbody>\n",
       "</table>\n",
       "</div>"
      ],
      "text/plain": [
       "               Entry  Win\n",
       "Date                     \n",
       "2021-12-06  50441.92    1\n",
       "2021-12-05  49396.33    1"
      ]
     },
     "execution_count": 36,
     "metadata": {},
     "output_type": "execute_result"
    }
   ],
   "source": [
    "X2"
   ]
  },
  {
   "cell_type": "code",
   "execution_count": 39,
   "id": "5ae639b7",
   "metadata": {},
   "outputs": [
    {
     "ename": "TypeError",
     "evalue": "Addition/subtraction of integers and integer-arrays with Timestamp is no longer supported.  Instead of adding/subtracting `n`, use `n * obj.freq`",
     "output_type": "error",
     "traceback": [
      "\u001b[0;31m---------------------------------------------------------------------------\u001b[0m",
      "\u001b[0;31mTypeError\u001b[0m                                 Traceback (most recent call last)",
      "\u001b[0;32m<ipython-input-39-19dfafe5dfbe>\u001b[0m in \u001b[0;36m<module>\u001b[0;34m\u001b[0m\n\u001b[0;32m----> 1\u001b[0;31m \u001b[0mX\u001b[0m\u001b[0;34m.\u001b[0m\u001b[0mindex\u001b[0m\u001b[0;34m[\u001b[0m\u001b[0;36m0\u001b[0m\u001b[0;34m]\u001b[0m \u001b[0;34m+\u001b[0m\u001b[0;36m1\u001b[0m\u001b[0;34m\u001b[0m\u001b[0;34m\u001b[0m\u001b[0m\n\u001b[0m",
      "\u001b[0;32m~/opt/anaconda3/lib/python3.8/site-packages/pandas/_libs/tslibs/timestamps.pyx\u001b[0m in \u001b[0;36mpandas._libs.tslibs.timestamps._Timestamp.__add__\u001b[0;34m()\u001b[0m\n",
      "\u001b[0;31mTypeError\u001b[0m: Addition/subtraction of integers and integer-arrays with Timestamp is no longer supported.  Instead of adding/subtracting `n`, use `n * obj.freq`"
     ]
    }
   ],
   "source": []
  },
  {
   "cell_type": "code",
   "execution_count": 43,
   "id": "aae73553",
   "metadata": {},
   "outputs": [
    {
     "name": "stderr",
     "output_type": "stream",
     "text": [
      "<ipython-input-43-5f5fcd83e099>:1: SettingWithCopyWarning: \n",
      "A value is trying to be set on a copy of a slice from a DataFrame.\n",
      "Try using .loc[row_indexer,col_indexer] = value instead\n",
      "\n",
      "See the caveats in the documentation: https://pandas.pydata.org/pandas-docs/stable/user_guide/indexing.html#returning-a-view-versus-a-copy\n",
      "  X2['Exit'] = 0\n",
      "<ipython-input-43-5f5fcd83e099>:3: SettingWithCopyWarning: \n",
      "A value is trying to be set on a copy of a slice from a DataFrame\n",
      "\n",
      "See the caveats in the documentation: https://pandas.pydata.org/pandas-docs/stable/user_guide/indexing.html#returning-a-view-versus-a-copy\n",
      "  X2['Exit'][i] = X['Entry'][i]\n"
     ]
    }
   ],
   "source": [
    "X2['Exit'] = 0\n",
    "for i in range(len(X2.index)):\n",
    "    X2['Exit'][i] = X['Entry'][i]"
   ]
  },
  {
   "cell_type": "code",
   "execution_count": 44,
   "id": "81f1e089",
   "metadata": {
    "scrolled": true
   },
   "outputs": [
    {
     "data": {
      "text/html": [
       "<div>\n",
       "<style scoped>\n",
       "    .dataframe tbody tr th:only-of-type {\n",
       "        vertical-align: middle;\n",
       "    }\n",
       "\n",
       "    .dataframe tbody tr th {\n",
       "        vertical-align: top;\n",
       "    }\n",
       "\n",
       "    .dataframe thead th {\n",
       "        text-align: right;\n",
       "    }\n",
       "</style>\n",
       "<table border=\"1\" class=\"dataframe\">\n",
       "  <thead>\n",
       "    <tr style=\"text-align: right;\">\n",
       "      <th></th>\n",
       "      <th>Entry</th>\n",
       "      <th>Win</th>\n",
       "      <th>Exit</th>\n",
       "    </tr>\n",
       "    <tr>\n",
       "      <th>Date</th>\n",
       "      <th></th>\n",
       "      <th></th>\n",
       "      <th></th>\n",
       "    </tr>\n",
       "  </thead>\n",
       "  <tbody>\n",
       "    <tr>\n",
       "      <th>2021-12-06</th>\n",
       "      <td>50441.92</td>\n",
       "      <td>1</td>\n",
       "      <td>50588</td>\n",
       "    </tr>\n",
       "    <tr>\n",
       "      <th>2021-12-05</th>\n",
       "      <td>49396.33</td>\n",
       "      <td>1</td>\n",
       "      <td>50441</td>\n",
       "    </tr>\n",
       "  </tbody>\n",
       "</table>\n",
       "</div>"
      ],
      "text/plain": [
       "               Entry  Win   Exit\n",
       "Date                            \n",
       "2021-12-06  50441.92    1  50588\n",
       "2021-12-05  49396.33    1  50441"
      ]
     },
     "execution_count": 44,
     "metadata": {},
     "output_type": "execute_result"
    }
   ],
   "source": [
    "X2\n"
   ]
  },
  {
   "cell_type": "code",
   "execution_count": 55,
   "id": "840563df",
   "metadata": {},
   "outputs": [
    {
     "data": {
      "text/plain": [
       "146.08000000000175"
      ]
     },
     "execution_count": 55,
     "metadata": {},
     "output_type": "execute_result"
    }
   ],
   "source": [
    "abs(X2.Exit[0] - X2.Entry[0])"
   ]
  },
  {
   "cell_type": "code",
   "execution_count": 57,
   "id": "8dfa7dc6",
   "metadata": {
    "scrolled": true
   },
   "outputs": [
    {
     "name": "stderr",
     "output_type": "stream",
     "text": [
      "<ipython-input-57-51485c69a5c6>:1: SettingWithCopyWarning: \n",
      "A value is trying to be set on a copy of a slice from a DataFrame.\n",
      "Try using .loc[row_indexer,col_indexer] = value instead\n",
      "\n",
      "See the caveats in the documentation: https://pandas.pydata.org/pandas-docs/stable/user_guide/indexing.html#returning-a-view-versus-a-copy\n",
      "  X2['Pct_Change'] = 0\n",
      "<ipython-input-57-51485c69a5c6>:2: SettingWithCopyWarning: \n",
      "A value is trying to be set on a copy of a slice from a DataFrame.\n",
      "Try using .loc[row_indexer,col_indexer] = value instead\n",
      "\n",
      "See the caveats in the documentation: https://pandas.pydata.org/pandas-docs/stable/user_guide/indexing.html#returning-a-view-versus-a-copy\n",
      "  X2['Gains(%)'] = 0\n",
      "<ipython-input-57-51485c69a5c6>:3: SettingWithCopyWarning: \n",
      "A value is trying to be set on a copy of a slice from a DataFrame.\n",
      "Try using .loc[row_indexer,col_indexer] = value instead\n",
      "\n",
      "See the caveats in the documentation: https://pandas.pydata.org/pandas-docs/stable/user_guide/indexing.html#returning-a-view-versus-a-copy\n",
      "  X2['Stake_In'] = 1000\n",
      "<ipython-input-57-51485c69a5c6>:4: SettingWithCopyWarning: \n",
      "A value is trying to be set on a copy of a slice from a DataFrame.\n",
      "Try using .loc[row_indexer,col_indexer] = value instead\n",
      "\n",
      "See the caveats in the documentation: https://pandas.pydata.org/pandas-docs/stable/user_guide/indexing.html#returning-a-view-versus-a-copy\n",
      "  X2['Stake_Out'] = 0\n",
      "<ipython-input-57-51485c69a5c6>:5: SettingWithCopyWarning: \n",
      "A value is trying to be set on a copy of a slice from a DataFrame.\n",
      "Try using .loc[row_indexer,col_indexer] = value instead\n",
      "\n",
      "See the caveats in the documentation: https://pandas.pydata.org/pandas-docs/stable/user_guide/indexing.html#returning-a-view-versus-a-copy\n",
      "  X2['Net_Profits'] = 0\n",
      "<ipython-input-57-51485c69a5c6>:6: SettingWithCopyWarning: \n",
      "A value is trying to be set on a copy of a slice from a DataFrame.\n",
      "Try using .loc[row_indexer,col_indexer] = value instead\n",
      "\n",
      "See the caveats in the documentation: https://pandas.pydata.org/pandas-docs/stable/user_guide/indexing.html#returning-a-view-versus-a-copy\n",
      "  X2['Profit_YTD'] = 0\n"
     ]
    }
   ],
   "source": [
    "X2['Pct_Change'] = 0\n",
    "X2['Gains(%)'] = 0\n",
    "X2['Stake_In'] = 1000\n",
    "X2['Stake_Out'] = 0\n",
    "X2['Net_Profits'] = 0\n",
    "X2['Profit_YTD'] = 0\n",
    "\n"
   ]
  },
  {
   "cell_type": "code",
   "execution_count": 58,
   "id": "65aca56b",
   "metadata": {},
   "outputs": [
    {
     "data": {
      "text/html": [
       "<div>\n",
       "<style scoped>\n",
       "    .dataframe tbody tr th:only-of-type {\n",
       "        vertical-align: middle;\n",
       "    }\n",
       "\n",
       "    .dataframe tbody tr th {\n",
       "        vertical-align: top;\n",
       "    }\n",
       "\n",
       "    .dataframe thead th {\n",
       "        text-align: right;\n",
       "    }\n",
       "</style>\n",
       "<table border=\"1\" class=\"dataframe\">\n",
       "  <thead>\n",
       "    <tr style=\"text-align: right;\">\n",
       "      <th></th>\n",
       "      <th>Entry</th>\n",
       "      <th>Win</th>\n",
       "      <th>Exit</th>\n",
       "      <th>Pct_Change</th>\n",
       "      <th>Gains(%)</th>\n",
       "      <th>Stake_In</th>\n",
       "      <th>Stake_Out</th>\n",
       "      <th>Net_Profits</th>\n",
       "      <th>Profit_YTD</th>\n",
       "    </tr>\n",
       "    <tr>\n",
       "      <th>Date</th>\n",
       "      <th></th>\n",
       "      <th></th>\n",
       "      <th></th>\n",
       "      <th></th>\n",
       "      <th></th>\n",
       "      <th></th>\n",
       "      <th></th>\n",
       "      <th></th>\n",
       "      <th></th>\n",
       "    </tr>\n",
       "  </thead>\n",
       "  <tbody>\n",
       "    <tr>\n",
       "      <th>2021-12-06</th>\n",
       "      <td>50441.92</td>\n",
       "      <td>1</td>\n",
       "      <td>50588</td>\n",
       "      <td>0</td>\n",
       "      <td>0</td>\n",
       "      <td>1000</td>\n",
       "      <td>0</td>\n",
       "      <td>0</td>\n",
       "      <td>0</td>\n",
       "    </tr>\n",
       "    <tr>\n",
       "      <th>2021-12-05</th>\n",
       "      <td>49396.33</td>\n",
       "      <td>1</td>\n",
       "      <td>50441</td>\n",
       "      <td>0</td>\n",
       "      <td>0</td>\n",
       "      <td>1000</td>\n",
       "      <td>0</td>\n",
       "      <td>0</td>\n",
       "      <td>0</td>\n",
       "    </tr>\n",
       "  </tbody>\n",
       "</table>\n",
       "</div>"
      ],
      "text/plain": [
       "               Entry  Win   Exit  Pct_Change  Gains(%)  Stake_In  Stake_Out  \\\n",
       "Date                                                                          \n",
       "2021-12-06  50441.92    1  50588           0         0      1000          0   \n",
       "2021-12-05  49396.33    1  50441           0         0      1000          0   \n",
       "\n",
       "            Net_Profits  Profit_YTD  \n",
       "Date                                 \n",
       "2021-12-06            0           0  \n",
       "2021-12-05            0           0  "
      ]
     },
     "execution_count": 58,
     "metadata": {},
     "output_type": "execute_result"
    }
   ],
   "source": [
    "X2"
   ]
  },
  {
   "cell_type": "code",
   "execution_count": 67,
   "id": "a5cc1c9f",
   "metadata": {},
   "outputs": [
    {
     "data": {
      "text/plain": [
       "50441.92"
      ]
     },
     "execution_count": 67,
     "metadata": {},
     "output_type": "execute_result"
    }
   ],
   "source": [
    "X2.loc[X2.index[0],'Entry']"
   ]
  },
  {
   "cell_type": "code",
   "execution_count": 79,
   "id": "6f3946b9",
   "metadata": {},
   "outputs": [
    {
     "name": "stderr",
     "output_type": "stream",
     "text": [
      "/Users/shmaze/opt/anaconda3/lib/python3.8/site-packages/pandas/core/indexing.py:1817: SettingWithCopyWarning: \n",
      "A value is trying to be set on a copy of a slice from a DataFrame.\n",
      "Try using .loc[row_indexer,col_indexer] = value instead\n",
      "\n",
      "See the caveats in the documentation: https://pandas.pydata.org/pandas-docs/stable/user_guide/indexing.html#returning-a-view-versus-a-copy\n",
      "  self._setitem_single_column(loc, value, pi)\n"
     ]
    }
   ],
   "source": [
    "for j in X2.index:\n",
    "            net_change = abs(X2.Exit[j] - X2.Entry[j])\n",
    "            pct = net_change / X2.Entry[j]\n",
    "            X2.loc[j,'Pct_Change'] = pct\n",
    "            X2.loc[j, 'Gains(%)'] = -(X2.Pct_Change[j]) if X2.Win[j] == 0 else X2.Pct_Change[j]\n",
    "            X2.loc[j, 'Stake_Out'] = X2.Stake_In[j] + (X2.Stake_In[j] * X2['Gains(%)'][j])\n",
    "            X2.loc[j, 'Net_Profits'] = X2.Stake_Out[j] - X2.Stake_In[j]\n",
    "            X2.loc[j, 'Profit_YTD'] = X2.Stake_Out[j] - 1000"
   ]
  },
  {
   "cell_type": "code",
   "execution_count": 80,
   "id": "73c4cc9d",
   "metadata": {},
   "outputs": [
    {
     "data": {
      "text/html": [
       "<div>\n",
       "<style scoped>\n",
       "    .dataframe tbody tr th:only-of-type {\n",
       "        vertical-align: middle;\n",
       "    }\n",
       "\n",
       "    .dataframe tbody tr th {\n",
       "        vertical-align: top;\n",
       "    }\n",
       "\n",
       "    .dataframe thead th {\n",
       "        text-align: right;\n",
       "    }\n",
       "</style>\n",
       "<table border=\"1\" class=\"dataframe\">\n",
       "  <thead>\n",
       "    <tr style=\"text-align: right;\">\n",
       "      <th></th>\n",
       "      <th>Entry</th>\n",
       "      <th>Win</th>\n",
       "      <th>Exit</th>\n",
       "      <th>Pct_Change</th>\n",
       "      <th>Gains(%)</th>\n",
       "      <th>Stake_In</th>\n",
       "      <th>Stake_Out</th>\n",
       "      <th>Net_Profits</th>\n",
       "      <th>Profit_YTD</th>\n",
       "    </tr>\n",
       "    <tr>\n",
       "      <th>Date</th>\n",
       "      <th></th>\n",
       "      <th></th>\n",
       "      <th></th>\n",
       "      <th></th>\n",
       "      <th></th>\n",
       "      <th></th>\n",
       "      <th></th>\n",
       "      <th></th>\n",
       "      <th></th>\n",
       "    </tr>\n",
       "  </thead>\n",
       "  <tbody>\n",
       "    <tr>\n",
       "      <th>2021-12-06</th>\n",
       "      <td>50441.92</td>\n",
       "      <td>1</td>\n",
       "      <td>50588</td>\n",
       "      <td>0.002896</td>\n",
       "      <td>0.002896</td>\n",
       "      <td>1000</td>\n",
       "      <td>1002.896004</td>\n",
       "      <td>2.896004</td>\n",
       "      <td>2.896004</td>\n",
       "    </tr>\n",
       "    <tr>\n",
       "      <th>2021-12-05</th>\n",
       "      <td>49396.33</td>\n",
       "      <td>1</td>\n",
       "      <td>50441</td>\n",
       "      <td>0.021149</td>\n",
       "      <td>0.021149</td>\n",
       "      <td>1000</td>\n",
       "      <td>1021.148737</td>\n",
       "      <td>21.148737</td>\n",
       "      <td>21.148737</td>\n",
       "    </tr>\n",
       "  </tbody>\n",
       "</table>\n",
       "</div>"
      ],
      "text/plain": [
       "               Entry  Win   Exit  Pct_Change  Gains(%)  Stake_In    Stake_Out  \\\n",
       "Date                                                                            \n",
       "2021-12-06  50441.92    1  50588    0.002896  0.002896      1000  1002.896004   \n",
       "2021-12-05  49396.33    1  50441    0.021149  0.021149      1000  1021.148737   \n",
       "\n",
       "            Net_Profits  Profit_YTD  \n",
       "Date                                 \n",
       "2021-12-06     2.896004    2.896004  \n",
       "2021-12-05    21.148737   21.148737  "
      ]
     },
     "execution_count": 80,
     "metadata": {},
     "output_type": "execute_result"
    }
   ],
   "source": [
    "X2"
   ]
  },
  {
   "cell_type": "code",
   "execution_count": 81,
   "id": "b0b7a585",
   "metadata": {},
   "outputs": [
    {
     "name": "stderr",
     "output_type": "stream",
     "text": [
      "/Users/shmaze/opt/anaconda3/lib/python3.8/site-packages/pandas/core/indexing.py:1817: SettingWithCopyWarning: \n",
      "A value is trying to be set on a copy of a slice from a DataFrame.\n",
      "Try using .loc[row_indexer,col_indexer] = value instead\n",
      "\n",
      "See the caveats in the documentation: https://pandas.pydata.org/pandas-docs/stable/user_guide/indexing.html#returning-a-view-versus-a-copy\n",
      "  self._setitem_single_column(loc, value, pi)\n"
     ]
    }
   ],
   "source": [
    "X2.loc[X2.index[0], 'Stake_In'] = X2.loc[X2.index[1], 'Stake_Out']"
   ]
  },
  {
   "cell_type": "code",
   "execution_count": 82,
   "id": "56e12159",
   "metadata": {
    "scrolled": true
   },
   "outputs": [
    {
     "data": {
      "text/html": [
       "<div>\n",
       "<style scoped>\n",
       "    .dataframe tbody tr th:only-of-type {\n",
       "        vertical-align: middle;\n",
       "    }\n",
       "\n",
       "    .dataframe tbody tr th {\n",
       "        vertical-align: top;\n",
       "    }\n",
       "\n",
       "    .dataframe thead th {\n",
       "        text-align: right;\n",
       "    }\n",
       "</style>\n",
       "<table border=\"1\" class=\"dataframe\">\n",
       "  <thead>\n",
       "    <tr style=\"text-align: right;\">\n",
       "      <th></th>\n",
       "      <th>Entry</th>\n",
       "      <th>Win</th>\n",
       "      <th>Exit</th>\n",
       "      <th>Pct_Change</th>\n",
       "      <th>Gains(%)</th>\n",
       "      <th>Stake_In</th>\n",
       "      <th>Stake_Out</th>\n",
       "      <th>Net_Profits</th>\n",
       "      <th>Profit_YTD</th>\n",
       "    </tr>\n",
       "    <tr>\n",
       "      <th>Date</th>\n",
       "      <th></th>\n",
       "      <th></th>\n",
       "      <th></th>\n",
       "      <th></th>\n",
       "      <th></th>\n",
       "      <th></th>\n",
       "      <th></th>\n",
       "      <th></th>\n",
       "      <th></th>\n",
       "    </tr>\n",
       "  </thead>\n",
       "  <tbody>\n",
       "    <tr>\n",
       "      <th>2021-12-06</th>\n",
       "      <td>50441.92</td>\n",
       "      <td>1</td>\n",
       "      <td>50588</td>\n",
       "      <td>0.002896</td>\n",
       "      <td>0.002896</td>\n",
       "      <td>1021.148737</td>\n",
       "      <td>1002.896004</td>\n",
       "      <td>2.896004</td>\n",
       "      <td>2.896004</td>\n",
       "    </tr>\n",
       "    <tr>\n",
       "      <th>2021-12-05</th>\n",
       "      <td>49396.33</td>\n",
       "      <td>1</td>\n",
       "      <td>50441</td>\n",
       "      <td>0.021149</td>\n",
       "      <td>0.021149</td>\n",
       "      <td>1000.000000</td>\n",
       "      <td>1021.148737</td>\n",
       "      <td>21.148737</td>\n",
       "      <td>21.148737</td>\n",
       "    </tr>\n",
       "  </tbody>\n",
       "</table>\n",
       "</div>"
      ],
      "text/plain": [
       "               Entry  Win   Exit  Pct_Change  Gains(%)     Stake_In  \\\n",
       "Date                                                                  \n",
       "2021-12-06  50441.92    1  50588    0.002896  0.002896  1021.148737   \n",
       "2021-12-05  49396.33    1  50441    0.021149  0.021149  1000.000000   \n",
       "\n",
       "              Stake_Out  Net_Profits  Profit_YTD  \n",
       "Date                                              \n",
       "2021-12-06  1002.896004     2.896004    2.896004  \n",
       "2021-12-05  1021.148737    21.148737   21.148737  "
      ]
     },
     "execution_count": 82,
     "metadata": {},
     "output_type": "execute_result"
    }
   ],
   "source": [
    "X2"
   ]
  },
  {
   "cell_type": "code",
   "execution_count": 83,
   "id": "0c196e48",
   "metadata": {},
   "outputs": [
    {
     "name": "stderr",
     "output_type": "stream",
     "text": [
      "/Users/shmaze/opt/anaconda3/lib/python3.8/site-packages/pandas/core/indexing.py:1817: SettingWithCopyWarning: \n",
      "A value is trying to be set on a copy of a slice from a DataFrame.\n",
      "Try using .loc[row_indexer,col_indexer] = value instead\n",
      "\n",
      "See the caveats in the documentation: https://pandas.pydata.org/pandas-docs/stable/user_guide/indexing.html#returning-a-view-versus-a-copy\n",
      "  self._setitem_single_column(loc, value, pi)\n"
     ]
    }
   ],
   "source": [
    "for j in X2.index:\n",
    "            net_change = abs(X2.Exit[j] - X2.Entry[j])\n",
    "            pct = net_change / X2.Entry[j]\n",
    "            X2.loc[j,'Pct_Change'] = pct\n",
    "            X2.loc[j, 'Gains(%)'] = -(X2.Pct_Change[j]) if X2.Win[j] == 0 else X2.Pct_Change[j]\n",
    "            X2.loc[j, 'Stake_Out'] = X2.Stake_In[j] + (X2.Stake_In[j] * X2['Gains(%)'][j])\n",
    "            X2.loc[j, 'Net_Profits'] = X2.Stake_Out[j] - X2.Stake_In[j]\n",
    "            X2.loc[j, 'Profit_YTD'] = X2.Stake_Out[j] - 1000"
   ]
  },
  {
   "cell_type": "code",
   "execution_count": 84,
   "id": "fd5199f3",
   "metadata": {},
   "outputs": [
    {
     "data": {
      "text/html": [
       "<div>\n",
       "<style scoped>\n",
       "    .dataframe tbody tr th:only-of-type {\n",
       "        vertical-align: middle;\n",
       "    }\n",
       "\n",
       "    .dataframe tbody tr th {\n",
       "        vertical-align: top;\n",
       "    }\n",
       "\n",
       "    .dataframe thead th {\n",
       "        text-align: right;\n",
       "    }\n",
       "</style>\n",
       "<table border=\"1\" class=\"dataframe\">\n",
       "  <thead>\n",
       "    <tr style=\"text-align: right;\">\n",
       "      <th></th>\n",
       "      <th>Entry</th>\n",
       "      <th>Win</th>\n",
       "      <th>Exit</th>\n",
       "      <th>Pct_Change</th>\n",
       "      <th>Gains(%)</th>\n",
       "      <th>Stake_In</th>\n",
       "      <th>Stake_Out</th>\n",
       "      <th>Net_Profits</th>\n",
       "      <th>Profit_YTD</th>\n",
       "    </tr>\n",
       "    <tr>\n",
       "      <th>Date</th>\n",
       "      <th></th>\n",
       "      <th></th>\n",
       "      <th></th>\n",
       "      <th></th>\n",
       "      <th></th>\n",
       "      <th></th>\n",
       "      <th></th>\n",
       "      <th></th>\n",
       "      <th></th>\n",
       "    </tr>\n",
       "  </thead>\n",
       "  <tbody>\n",
       "    <tr>\n",
       "      <th>2021-12-06</th>\n",
       "      <td>50441.92</td>\n",
       "      <td>1</td>\n",
       "      <td>50588</td>\n",
       "      <td>0.002896</td>\n",
       "      <td>0.002896</td>\n",
       "      <td>1021.148737</td>\n",
       "      <td>1024.105988</td>\n",
       "      <td>2.957251</td>\n",
       "      <td>24.105988</td>\n",
       "    </tr>\n",
       "    <tr>\n",
       "      <th>2021-12-05</th>\n",
       "      <td>49396.33</td>\n",
       "      <td>1</td>\n",
       "      <td>50441</td>\n",
       "      <td>0.021149</td>\n",
       "      <td>0.021149</td>\n",
       "      <td>1000.000000</td>\n",
       "      <td>1021.148737</td>\n",
       "      <td>21.148737</td>\n",
       "      <td>21.148737</td>\n",
       "    </tr>\n",
       "  </tbody>\n",
       "</table>\n",
       "</div>"
      ],
      "text/plain": [
       "               Entry  Win   Exit  Pct_Change  Gains(%)     Stake_In  \\\n",
       "Date                                                                  \n",
       "2021-12-06  50441.92    1  50588    0.002896  0.002896  1021.148737   \n",
       "2021-12-05  49396.33    1  50441    0.021149  0.021149  1000.000000   \n",
       "\n",
       "              Stake_Out  Net_Profits  Profit_YTD  \n",
       "Date                                              \n",
       "2021-12-06  1024.105988     2.957251   24.105988  \n",
       "2021-12-05  1021.148737    21.148737   21.148737  "
      ]
     },
     "execution_count": 84,
     "metadata": {},
     "output_type": "execute_result"
    }
   ],
   "source": [
    "X2"
   ]
  },
  {
   "cell_type": "code",
   "execution_count": 85,
   "id": "d253eeb5",
   "metadata": {},
   "outputs": [
    {
     "name": "stderr",
     "output_type": "stream",
     "text": [
      "<ipython-input-85-18c1d6fae81e>:1: SettingWithCopyWarning: \n",
      "A value is trying to be set on a copy of a slice from a DataFrame.\n",
      "Try using .loc[row_indexer,col_indexer] = value instead\n",
      "\n",
      "See the caveats in the documentation: https://pandas.pydata.org/pandas-docs/stable/user_guide/indexing.html#returning-a-view-versus-a-copy\n",
      "  X2['ROI(%)'] = X2.Profit_YTD / 1000\n"
     ]
    }
   ],
   "source": [
    "X2['ROI(%)'] = X2.Profit_YTD / 1000"
   ]
  },
  {
   "cell_type": "code",
   "execution_count": 89,
   "id": "b58b8c20",
   "metadata": {
    "scrolled": true
   },
   "outputs": [
    {
     "data": {
      "text/html": [
       "<div>\n",
       "<style scoped>\n",
       "    .dataframe tbody tr th:only-of-type {\n",
       "        vertical-align: middle;\n",
       "    }\n",
       "\n",
       "    .dataframe tbody tr th {\n",
       "        vertical-align: top;\n",
       "    }\n",
       "\n",
       "    .dataframe thead th {\n",
       "        text-align: right;\n",
       "    }\n",
       "</style>\n",
       "<table border=\"1\" class=\"dataframe\">\n",
       "  <thead>\n",
       "    <tr style=\"text-align: right;\">\n",
       "      <th></th>\n",
       "      <th>Entry</th>\n",
       "      <th>Win</th>\n",
       "      <th>Exit</th>\n",
       "      <th>Pct_Change</th>\n",
       "      <th>Gains(%)</th>\n",
       "      <th>Stake_In</th>\n",
       "      <th>Stake_Out</th>\n",
       "      <th>Net_Profits</th>\n",
       "      <th>Profit_YTD</th>\n",
       "      <th>ROI(%)</th>\n",
       "    </tr>\n",
       "    <tr>\n",
       "      <th>Date</th>\n",
       "      <th></th>\n",
       "      <th></th>\n",
       "      <th></th>\n",
       "      <th></th>\n",
       "      <th></th>\n",
       "      <th></th>\n",
       "      <th></th>\n",
       "      <th></th>\n",
       "      <th></th>\n",
       "      <th></th>\n",
       "    </tr>\n",
       "  </thead>\n",
       "  <tbody>\n",
       "    <tr>\n",
       "      <th>2021-12-06</th>\n",
       "      <td>50441.92</td>\n",
       "      <td>1</td>\n",
       "      <td>50588</td>\n",
       "      <td>0.002896</td>\n",
       "      <td>0.002896</td>\n",
       "      <td>1021.148737</td>\n",
       "      <td>1024.105988</td>\n",
       "      <td>2.957251</td>\n",
       "      <td>24.105988</td>\n",
       "      <td>0.024106</td>\n",
       "    </tr>\n",
       "    <tr>\n",
       "      <th>2021-12-05</th>\n",
       "      <td>49396.33</td>\n",
       "      <td>1</td>\n",
       "      <td>50441</td>\n",
       "      <td>0.021149</td>\n",
       "      <td>0.021149</td>\n",
       "      <td>1000.000000</td>\n",
       "      <td>1021.148737</td>\n",
       "      <td>21.148737</td>\n",
       "      <td>21.148737</td>\n",
       "      <td>0.021149</td>\n",
       "    </tr>\n",
       "  </tbody>\n",
       "</table>\n",
       "</div>"
      ],
      "text/plain": [
       "               Entry  Win   Exit  Pct_Change  Gains(%)     Stake_In  \\\n",
       "Date                                                                  \n",
       "2021-12-06  50441.92    1  50588    0.002896  0.002896  1021.148737   \n",
       "2021-12-05  49396.33    1  50441    0.021149  0.021149  1000.000000   \n",
       "\n",
       "              Stake_Out  Net_Profits  Profit_YTD    ROI(%)  \n",
       "Date                                                        \n",
       "2021-12-06  1024.105988     2.957251   24.105988  0.024106  \n",
       "2021-12-05  1021.148737    21.148737   21.148737  0.021149  "
      ]
     },
     "execution_count": 89,
     "metadata": {},
     "output_type": "execute_result"
    }
   ],
   "source": [
    "X2"
   ]
  },
  {
   "cell_type": "code",
   "execution_count": 87,
   "id": "b500d37f",
   "metadata": {},
   "outputs": [],
   "source": [
    "# now we need one last function which will write our new data into our last database\n",
    "\n",
    "def gains_db(gains_df):\n",
    "    '''\n",
    "    This function will take in our created gains df and append it to our existing database.\n",
    "    '''\n",
    "    \n",
    "    conn = None\n",
    "    try:\n",
    "        conn = sqlite3.connect('bitcoin_model.db')\n",
    "        print('Connected Successfully!')\n",
    "    \n",
    "    except Error as e:\n",
    "        print(e)\n",
    "        \n",
    "    gains_df.to_sql('quantitative_stats', con=conn, if_exists='append')\n",
    "    \n",
    "        \n",
    "    conn.close()\n",
    "    \n",
    "    \n",
    "    \n",
    "    \n",
    "    \n",
    "    \n",
    "    "
   ]
  },
  {
   "cell_type": "code",
   "execution_count": 88,
   "id": "c668c592",
   "metadata": {
    "scrolled": true
   },
   "outputs": [
    {
     "name": "stdout",
     "output_type": "stream",
     "text": [
      "Connected Successfully!\n"
     ]
    }
   ],
   "source": [
    "gains_db(X2)"
   ]
  },
  {
   "cell_type": "code",
   "execution_count": 112,
   "id": "a4ed16d5",
   "metadata": {},
   "outputs": [],
   "source": [
    "# now we need a function to recall the most recent stake out value to be input into our other function to calculate\n",
    "# our cumulative gains\n",
    "\n",
    "def get_stake():\n",
    "    \n",
    "    conn = None\n",
    "    try:\n",
    "        conn = sqlite3.connect('bitcoin_model.db')\n",
    "        print('Connected Successfully!')\n",
    "    \n",
    "    except Error as e:\n",
    "        print(e)\n",
    "    \n",
    "    query = \"\"\"\n",
    "            SELECT Stake_Out\n",
    "            FROM quantitative_stats\n",
    "            ORDER BY Date DESC LIMIT 1\n",
    "            \"\"\"\n",
    "    \n",
    "    data = pd.read_sql(query, conn, parse_dates=['Date'])\n",
    "    \n",
    "        \n",
    "    conn.close()\n",
    "    \n",
    "    return data.Stake_Out.values[0]"
   ]
  },
  {
   "cell_type": "code",
   "execution_count": 113,
   "id": "e0d9617f",
   "metadata": {},
   "outputs": [
    {
     "data": {
      "text/html": [
       "<div>\n",
       "<style scoped>\n",
       "    .dataframe tbody tr th:only-of-type {\n",
       "        vertical-align: middle;\n",
       "    }\n",
       "\n",
       "    .dataframe tbody tr th {\n",
       "        vertical-align: top;\n",
       "    }\n",
       "\n",
       "    .dataframe thead th {\n",
       "        text-align: right;\n",
       "    }\n",
       "</style>\n",
       "<table border=\"1\" class=\"dataframe\">\n",
       "  <thead>\n",
       "    <tr style=\"text-align: right;\">\n",
       "      <th></th>\n",
       "      <th>Entry</th>\n",
       "      <th>Win</th>\n",
       "      <th>Exit</th>\n",
       "      <th>Pct_Change</th>\n",
       "      <th>Gains(%)</th>\n",
       "      <th>Stake_In</th>\n",
       "      <th>Stake_Out</th>\n",
       "      <th>Net_Profits</th>\n",
       "      <th>Profit_YTD</th>\n",
       "      <th>ROI(%)</th>\n",
       "    </tr>\n",
       "    <tr>\n",
       "      <th>Date</th>\n",
       "      <th></th>\n",
       "      <th></th>\n",
       "      <th></th>\n",
       "      <th></th>\n",
       "      <th></th>\n",
       "      <th></th>\n",
       "      <th></th>\n",
       "      <th></th>\n",
       "      <th></th>\n",
       "      <th></th>\n",
       "    </tr>\n",
       "  </thead>\n",
       "  <tbody>\n",
       "    <tr>\n",
       "      <th>2021-12-06</th>\n",
       "      <td>50441.92</td>\n",
       "      <td>1</td>\n",
       "      <td>50588</td>\n",
       "      <td>0.002896</td>\n",
       "      <td>0.002896</td>\n",
       "      <td>1021.148737</td>\n",
       "      <td>1024.105988</td>\n",
       "      <td>2.957251</td>\n",
       "      <td>24.105988</td>\n",
       "      <td>0.024106</td>\n",
       "    </tr>\n",
       "    <tr>\n",
       "      <th>2021-12-05</th>\n",
       "      <td>49396.33</td>\n",
       "      <td>1</td>\n",
       "      <td>50441</td>\n",
       "      <td>0.021149</td>\n",
       "      <td>0.021149</td>\n",
       "      <td>1000.000000</td>\n",
       "      <td>1021.148737</td>\n",
       "      <td>21.148737</td>\n",
       "      <td>21.148737</td>\n",
       "      <td>0.021149</td>\n",
       "    </tr>\n",
       "  </tbody>\n",
       "</table>\n",
       "</div>"
      ],
      "text/plain": [
       "               Entry  Win   Exit  Pct_Change  Gains(%)     Stake_In  \\\n",
       "Date                                                                  \n",
       "2021-12-06  50441.92    1  50588    0.002896  0.002896  1021.148737   \n",
       "2021-12-05  49396.33    1  50441    0.021149  0.021149  1000.000000   \n",
       "\n",
       "              Stake_Out  Net_Profits  Profit_YTD    ROI(%)  \n",
       "Date                                                        \n",
       "2021-12-06  1024.105988     2.957251   24.105988  0.024106  \n",
       "2021-12-05  1021.148737    21.148737   21.148737  0.021149  "
      ]
     },
     "execution_count": 113,
     "metadata": {},
     "output_type": "execute_result"
    }
   ],
   "source": [
    "X2"
   ]
  },
  {
   "cell_type": "code",
   "execution_count": 122,
   "id": "2a5f14a7",
   "metadata": {},
   "outputs": [],
   "source": [
    "# a function for retrieving all relevant information for displayiong model quantitative performance over time\n",
    "\n",
    "\n",
    "def get_quant_data():\n",
    "    \n",
    "    conn = None\n",
    "    try:\n",
    "        conn = sqlite3.connect('bitcoin_model.db')\n",
    "        print('Connected Successfully!')\n",
    "    \n",
    "    except Error as e:\n",
    "        print(e)\n",
    "    \n",
    "    query = r\"\"\"\n",
    "            SELECT *\n",
    "            FROM quantitative_stats\n",
    "            ORDER BY Date\n",
    "            \"\"\"\n",
    "    \n",
    "    data = pd.read_sql(query, conn, parse_dates=['Date'])\n",
    "    \n",
    "    data.set_index('Date', inplace=True)\n",
    "    data.drop(['Entry', 'Exit', 'Win', 'Pct_Change', 'Stake_In'], axis=1, inplace=True)\n",
    "    conn.close()\n",
    "    \n",
    "    return data"
   ]
  },
  {
   "cell_type": "code",
   "execution_count": 123,
   "id": "18681767",
   "metadata": {
    "scrolled": true
   },
   "outputs": [
    {
     "name": "stdout",
     "output_type": "stream",
     "text": [
      "Connected Successfully!\n"
     ]
    },
    {
     "data": {
      "text/html": [
       "<div>\n",
       "<style scoped>\n",
       "    .dataframe tbody tr th:only-of-type {\n",
       "        vertical-align: middle;\n",
       "    }\n",
       "\n",
       "    .dataframe tbody tr th {\n",
       "        vertical-align: top;\n",
       "    }\n",
       "\n",
       "    .dataframe thead th {\n",
       "        text-align: right;\n",
       "    }\n",
       "</style>\n",
       "<table border=\"1\" class=\"dataframe\">\n",
       "  <thead>\n",
       "    <tr style=\"text-align: right;\">\n",
       "      <th></th>\n",
       "      <th>Gains(%)</th>\n",
       "      <th>Stake_Out</th>\n",
       "      <th>Net_Profits</th>\n",
       "      <th>Profit_YTD</th>\n",
       "      <th>ROI(%)</th>\n",
       "    </tr>\n",
       "    <tr>\n",
       "      <th>Date</th>\n",
       "      <th></th>\n",
       "      <th></th>\n",
       "      <th></th>\n",
       "      <th></th>\n",
       "      <th></th>\n",
       "    </tr>\n",
       "  </thead>\n",
       "  <tbody>\n",
       "    <tr>\n",
       "      <th>2021-12-05</th>\n",
       "      <td>0.021149</td>\n",
       "      <td>1021.148737</td>\n",
       "      <td>21.148737</td>\n",
       "      <td>21.148737</td>\n",
       "      <td>0.021149</td>\n",
       "    </tr>\n",
       "    <tr>\n",
       "      <th>2021-12-06</th>\n",
       "      <td>0.002896</td>\n",
       "      <td>1024.105988</td>\n",
       "      <td>2.957251</td>\n",
       "      <td>24.105988</td>\n",
       "      <td>0.024106</td>\n",
       "    </tr>\n",
       "    <tr>\n",
       "      <th>2021-12-07</th>\n",
       "      <td>0.002325</td>\n",
       "      <td>1026.487048</td>\n",
       "      <td>2.381060</td>\n",
       "      <td>26.487048</td>\n",
       "      <td>0.026487</td>\n",
       "    </tr>\n",
       "  </tbody>\n",
       "</table>\n",
       "</div>"
      ],
      "text/plain": [
       "            Gains(%)    Stake_Out  Net_Profits  Profit_YTD    ROI(%)\n",
       "Date                                                                \n",
       "2021-12-05  0.021149  1021.148737    21.148737   21.148737  0.021149\n",
       "2021-12-06  0.002896  1024.105988     2.957251   24.105988  0.024106\n",
       "2021-12-07  0.002325  1026.487048     2.381060   26.487048  0.026487"
      ]
     },
     "execution_count": 123,
     "metadata": {},
     "output_type": "execute_result"
    }
   ],
   "source": [
    "get_quant_data()"
   ]
  },
  {
   "cell_type": "code",
   "execution_count": 129,
   "id": "99b0192f",
   "metadata": {},
   "outputs": [],
   "source": [
    "# now we need a function that will output all of our desired metrics\n",
    "\n",
    "\n",
    "def quant_charts(quant_data):\n",
    "    '''\n",
    "    This function intakes the resulting dataframe of the \"get_quant_data\" function and outputs graphs and charts showing \n",
    "    model performance over time\n",
    "    '''\n",
    "   \n",
    "    fig, (ax1, ax2, ax3)  = plt.subplots(3,1, figsize=(15,9))\n",
    "    \n",
    "    ax1.plot(quant_data.index, quant_data['Gains(%)'], color='royalblue', label='Daily Gain(%)', marker='o')\n",
    "    ax1.plot(quant_data.index, quant_data['ROI(%)'], color='seagreen', label='Model ROI(%)', marker='x')\n",
    "    ax1.set_xlabel('Date', fontsize=25)\n",
    "    ax1.set_title('Daily Gains and Model Return on Investment', fontsize=25)\n",
    "    ax1.set_ylabel('Return', fontsize=20)\n",
    "    ax1.legend(fontsize=15)\n",
    "    ax1.tick_params(axis='both', which='major', labelsize=15)              \n",
    "    \n",
    "    ax2.plot(quant_data.index, quant_data['Net_Profits'], label='Daily', marker='o', color='royalblue')  \n",
    "    ax2.plot(quant_data.index, quant_data['Profit_YTD'], label='Year-to-Date', marker='x', color='seagreen')\n",
    "    ax2.set_title('Daily and Year-to-Date Net Profits', fontsize=25)\n",
    "    ax2.set_ylabel('Profits', fontsize=20)\n",
    "    ax2.set_xlabel('Date', fontsize=20)\n",
    "    ax2.tick_params(axis='both', which='major', labelsize=15)\n",
    "    ax2.legend(fontsize=15)\n",
    "    \n",
    "    ax3.plot(quant_data.index, quant_data['Stake_Out'], label='Total Value', color='royalblue', marker='x')\n",
    "    ax3.set_title('Total Value Over Time', fontsize=25)\n",
    "    ax3.set_ylabel('Total Value', fontsize=20)\n",
    "    ax3.set_xlabel('Date', fontsize=20)\n",
    "    ax3.tick_params(axis='both', which='major', labelsize=15)\n",
    "    \n",
    "    fig.tight_layout(pad=3)\n",
    "    fig.show()\n",
    "    \n",
    " "
   ]
  },
  {
   "cell_type": "code",
   "execution_count": 130,
   "id": "50362619",
   "metadata": {},
   "outputs": [
    {
     "name": "stdout",
     "output_type": "stream",
     "text": [
      "Connected Successfully!\n"
     ]
    },
    {
     "name": "stderr",
     "output_type": "stream",
     "text": [
      "<ipython-input-129-549453859cbf>:35: UserWarning: Matplotlib is currently using module://ipykernel.pylab.backend_inline, which is a non-GUI backend, so cannot show the figure.\n",
      "  fig.show()\n"
     ]
    },
    {
     "data": {
      "image/png": "[encoded data removed]",
      "text/plain": [
       "<Figure size 1080x648 with 3 Axes>"
      ]
     },
     "metadata": {
      "needs_background": "light"
     },
     "output_type": "display_data"
    }
   ],
   "source": [
    "quant_charts(get_quant_data())"
   ]
  },
  {
   "cell_type": "code",
   "execution_count": null,
   "id": "5a54f5b4",
   "metadata": {},
   "outputs": [],
   "source": []
  }
 ],
 "metadata": {
  "kernelspec": {
   "display_name": "Python 3",
   "language": "python",
   "name": "python3"
  },
  "language_info": {
   "codemirror_mode": {
    "name": "ipython",
    "version": 3
   },
   "file_extension": ".py",
   "mimetype": "text/x-python",
   "name": "python",
   "nbconvert_exporter": "python",
   "pygments_lexer": "ipython3",
   "version": "3.8.8"
  }
 },
 "nbformat": 4,
 "nbformat_minor": 5
}
