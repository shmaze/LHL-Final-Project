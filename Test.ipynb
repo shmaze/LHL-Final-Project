{
 "cells": [
  {
   "cell_type": "code",
   "execution_count": 1,
   "id": "8eecd836",
   "metadata": {},
   "outputs": [
    {
     "name": "stdout",
     "output_type": "stream",
     "text": [
      "Data written to model_predictions.csv!\n",
      "Data written to model_performance.csv!\n"
     ]
    },
    {
     "name": "stderr",
     "output_type": "stream",
     "text": [
      "/Users/shmaze/LighthouseLabs/Final-Project/LHL-Final-Project/model_data.py:153: SettingWithCopyWarning: \n",
      "A value is trying to be set on a copy of a slice from a DataFrame\n",
      "\n",
      "See the caveats in the documentation: https://pandas.pydata.org/pandas-docs/stable/user_guide/indexing.html#returning-a-view-versus-a-copy\n",
      "  model_data['Model_Accuracy'][-1:] = model_acc * 100\n"
     ]
    },
    {
     "name": "stdout",
     "output_type": "stream",
     "text": [
      "Data written to model_quantitative_stats.csv!\n",
      "CSVs updated successfully!\n"
     ]
    },
    {
     "name": "stderr",
     "output_type": "stream",
     "text": [
      "/Users/shmaze/LighthouseLabs/Final-Project/LHL-Final-Project/model_data.py:212: SettingWithCopyWarning: \n",
      "A value is trying to be set on a copy of a slice from a DataFrame.\n",
      "Try using .loc[row_indexer,col_indexer] = value instead\n",
      "\n",
      "See the caveats in the documentation: https://pandas.pydata.org/pandas-docs/stable/user_guide/indexing.html#returning-a-view-versus-a-copy\n",
      "  price['Date'] = price['Date'].apply(lambda x: pd.to_datetime(x, unit='ms'))\n"
     ]
    }
   ],
   "source": [
    "%run model_data.py"
   ]
  },
  {
   "cell_type": "code",
   "execution_count": 9,
   "id": "c1623bf6",
   "metadata": {},
   "outputs": [
    {
     "name": "stdout",
     "output_type": "stream",
     "text": [
      "Collecting pydrive\n",
      "  Downloading PyDrive-1.3.1.tar.gz (987 kB)\n",
      "\u001b[K     |████████████████████████████████| 987 kB 1.8 MB/s eta 0:00:01\n",
      "\u001b[?25hRequirement already satisfied: google-api-python-client>=1.2 in /Users/shmaze/opt/anaconda3/lib/python3.8/site-packages (from pydrive) (2.33.0)\n",
      "Collecting oauth2client>=4.0.0\n",
      "  Downloading oauth2client-4.1.3-py2.py3-none-any.whl (98 kB)\n",
      "\u001b[K     |████████████████████████████████| 98 kB 20.7 MB/s eta 0:00:01\n",
      "\u001b[?25hRequirement already satisfied: PyYAML>=3.0 in /Users/shmaze/opt/anaconda3/lib/python3.8/site-packages (from pydrive) (5.4.1)\n",
      "Requirement already satisfied: google-api-core<3.0.0dev,>=1.21.0 in /Users/shmaze/opt/anaconda3/lib/python3.8/site-packages (from google-api-python-client>=1.2->pydrive) (2.3.0)\n",
      "Requirement already satisfied: google-auth-httplib2>=0.1.0 in /Users/shmaze/opt/anaconda3/lib/python3.8/site-packages (from google-api-python-client>=1.2->pydrive) (0.1.0)\n",
      "Requirement already satisfied: httplib2<1dev,>=0.15.0 in /Users/shmaze/opt/anaconda3/lib/python3.8/site-packages (from google-api-python-client>=1.2->pydrive) (0.20.2)\n",
      "Requirement already satisfied: google-auth<3.0.0dev,>=1.16.0 in /Users/shmaze/opt/anaconda3/lib/python3.8/site-packages (from google-api-python-client>=1.2->pydrive) (2.3.3)\n",
      "Requirement already satisfied: uritemplate<5,>=3.0.0 in /Users/shmaze/opt/anaconda3/lib/python3.8/site-packages (from google-api-python-client>=1.2->pydrive) (4.1.1)\n",
      "Requirement already satisfied: setuptools>=40.3.0 in /Users/shmaze/opt/anaconda3/lib/python3.8/site-packages (from google-api-core<3.0.0dev,>=1.21.0->google-api-python-client>=1.2->pydrive) (52.0.0.post20210125)\n",
      "Requirement already satisfied: requests<3.0.0dev,>=2.18.0 in /Users/shmaze/opt/anaconda3/lib/python3.8/site-packages (from google-api-core<3.0.0dev,>=1.21.0->google-api-python-client>=1.2->pydrive) (2.22.0)\n",
      "Requirement already satisfied: googleapis-common-protos<2.0dev,>=1.52.0 in /Users/shmaze/opt/anaconda3/lib/python3.8/site-packages (from google-api-core<3.0.0dev,>=1.21.0->google-api-python-client>=1.2->pydrive) (1.54.0)\n",
      "Requirement already satisfied: protobuf>=3.12.0 in /Users/shmaze/opt/anaconda3/lib/python3.8/site-packages (from google-api-core<3.0.0dev,>=1.21.0->google-api-python-client>=1.2->pydrive) (3.19.1)\n",
      "Requirement already satisfied: cachetools<5.0,>=2.0.0 in /Users/shmaze/opt/anaconda3/lib/python3.8/site-packages (from google-auth<3.0.0dev,>=1.16.0->google-api-python-client>=1.2->pydrive) (4.2.4)\n",
      "Requirement already satisfied: six>=1.9.0 in /Users/shmaze/opt/anaconda3/lib/python3.8/site-packages (from google-auth<3.0.0dev,>=1.16.0->google-api-python-client>=1.2->pydrive) (1.15.0)\n",
      "Requirement already satisfied: rsa<5,>=3.1.4 in /Users/shmaze/opt/anaconda3/lib/python3.8/site-packages (from google-auth<3.0.0dev,>=1.16.0->google-api-python-client>=1.2->pydrive) (4.7.2)\n",
      "Requirement already satisfied: pyasn1-modules>=0.2.1 in /Users/shmaze/opt/anaconda3/lib/python3.8/site-packages (from google-auth<3.0.0dev,>=1.16.0->google-api-python-client>=1.2->pydrive) (0.2.8)\n",
      "Requirement already satisfied: pyparsing!=3.0.0,!=3.0.1,!=3.0.2,!=3.0.3,<4,>=2.4.2 in /Users/shmaze/opt/anaconda3/lib/python3.8/site-packages (from httplib2<1dev,>=0.15.0->google-api-python-client>=1.2->pydrive) (2.4.7)\n",
      "Requirement already satisfied: pyasn1>=0.1.7 in /Users/shmaze/opt/anaconda3/lib/python3.8/site-packages (from oauth2client>=4.0.0->pydrive) (0.4.8)\n",
      "Requirement already satisfied: urllib3!=1.25.0,!=1.25.1,<1.26,>=1.21.1 in /Users/shmaze/opt/anaconda3/lib/python3.8/site-packages (from requests<3.0.0dev,>=2.18.0->google-api-core<3.0.0dev,>=1.21.0->google-api-python-client>=1.2->pydrive) (1.25.11)\n",
      "Requirement already satisfied: idna<2.9,>=2.5 in /Users/shmaze/opt/anaconda3/lib/python3.8/site-packages (from requests<3.0.0dev,>=2.18.0->google-api-core<3.0.0dev,>=1.21.0->google-api-python-client>=1.2->pydrive) (2.8)\n",
      "Requirement already satisfied: chardet<3.1.0,>=3.0.2 in /Users/shmaze/opt/anaconda3/lib/python3.8/site-packages (from requests<3.0.0dev,>=2.18.0->google-api-core<3.0.0dev,>=1.21.0->google-api-python-client>=1.2->pydrive) (3.0.4)\n",
      "Requirement already satisfied: certifi>=2017.4.17 in /Users/shmaze/opt/anaconda3/lib/python3.8/site-packages (from requests<3.0.0dev,>=2.18.0->google-api-core<3.0.0dev,>=1.21.0->google-api-python-client>=1.2->pydrive) (2020.12.5)\n",
      "Building wheels for collected packages: pydrive\n",
      "  Building wheel for pydrive (setup.py) ... \u001b[?25ldone\n",
      "\u001b[?25h  Created wheel for pydrive: filename=PyDrive-1.3.1-py3-none-any.whl size=27435 sha256=10bee825fce98a3cf136082cd5c74e668dd5d638dfaefc55fadbe429157b2bf8\n",
      "  Stored in directory: /Users/shmaze/Library/Caches/pip/wheels/c6/14/12/ccdcc5d3b41661f360f9c7d9f7ea9d1879a5f85aa4ecc8cc6f\n",
      "Successfully built pydrive\n",
      "Installing collected packages: oauth2client, pydrive\n",
      "Successfully installed oauth2client-4.1.3 pydrive-1.3.1\n"
     ]
    }
   ],
   "source": [
    "!pip install pydrive"
   ]
  },
  {
   "cell_type": "code",
   "execution_count": 10,
   "id": "2e6b582f",
   "metadata": {},
   "outputs": [],
   "source": [
    "from pydrive.auth import GoogleAuth\n",
    "from pydrive.drive import GoogleDrive"
   ]
  },
  {
   "cell_type": "code",
   "execution_count": null,
   "id": "40e2f182",
   "metadata": {},
   "outputs": [],
   "source": []
  }
 ],
 "metadata": {
  "kernelspec": {
   "display_name": "Python 3",
   "language": "python",
   "name": "python3"
  },
  "language_info": {
   "codemirror_mode": {
    "name": "ipython",
    "version": 3
   },
   "file_extension": ".py",
   "mimetype": "text/x-python",
   "name": "python",
   "nbconvert_exporter": "python",
   "pygments_lexer": "ipython3",
   "version": "3.8.8"
  }
 },
 "nbformat": 4,
 "nbformat_minor": 5
}
